{
 "cells": [
  {
   "cell_type": "markdown",
   "id": "a7ec11a5-d615-428b-9a55-1b90a2b5b528",
   "metadata": {},
   "source": [
    "# Import Packages"
   ]
  },
  {
   "cell_type": "code",
   "execution_count": 1,
   "id": "47370517-731a-414a-9333-9b3dd4e2e696",
   "metadata": {},
   "outputs": [],
   "source": [
    "import numpy as np"
   ]
  },
  {
   "cell_type": "code",
   "execution_count": 2,
   "id": "e47eaf13-c76d-4b75-aa90-b4d259a7ea61",
   "metadata": {},
   "outputs": [],
   "source": [
    "import pandas as pd"
   ]
  },
  {
   "cell_type": "code",
   "execution_count": 3,
   "id": "35c7f4a5-5f48-48c8-a485-15bbf4270660",
   "metadata": {},
   "outputs": [],
   "source": [
    "import tensorflow as tf\n",
    "from tensorflow.keras.models import Sequential\n",
    "from tensorflow.keras.layers import Dense,Input,BatchNormalization,Dropout"
   ]
  },
  {
   "cell_type": "code",
   "execution_count": 52,
   "id": "bc35cc08-5a67-48ed-bae3-1b66001f1202",
   "metadata": {},
   "outputs": [],
   "source": [
    "from sklearn.model_selection import train_test_split\n",
    "from sklearn.preprocessing import LabelEncoder\n",
    "from sklearn.model_selection import GridSearchCV\n",
    "from sklearn.ensemble import RandomForestClassifier\n",
    "from sklearn.metrics import classification_report, accuracy_score\n",
    "from sklearn.metrics import roc_curve, auc\n",
    "from sklearn.preprocessing import label_binarize\n",
    "from sklearn.preprocessing import MinMaxScaler\n",
    "import joblib"
   ]
  },
  {
   "cell_type": "code",
   "execution_count": 5,
   "id": "80eee560-de24-4095-9f5a-39572b943005",
   "metadata": {},
   "outputs": [],
   "source": [
    "import matplotlib.pyplot as plt"
   ]
  },
  {
   "cell_type": "code",
   "execution_count": 6,
   "id": "458c231b-24ed-4f40-b15b-c3672a0e3b62",
   "metadata": {},
   "outputs": [],
   "source": [
    "import seaborn as sns"
   ]
  },
  {
   "cell_type": "markdown",
   "id": "416095c3-4d47-4eb4-86ed-661f71e78473",
   "metadata": {
    "jp-MarkdownHeadingCollapsed": true
   },
   "source": [
    "# Raw Data"
   ]
  },
  {
   "cell_type": "code",
   "execution_count": null,
   "id": "f9dfd7e0-3e7e-4560-9aa9-3ca9c937e429",
   "metadata": {},
   "outputs": [],
   "source": [
    "#raw_data = pd.read_csv('foodnutrition.csv', delimiter = '\\t')"
   ]
  },
  {
   "cell_type": "code",
   "execution_count": null,
   "id": "9c66bfbf-8caa-4220-a305-e5e088249561",
   "metadata": {},
   "outputs": [],
   "source": [
    "#raw_data.to_pickle('raw_data.pkl')"
   ]
  },
  {
   "cell_type": "code",
   "execution_count": null,
   "id": "cc3b9e53-84e6-4e7e-bbbb-1c6532ccd6b8",
   "metadata": {},
   "outputs": [],
   "source": [
    "raw_data = pd.read_pickle('raw_data.pkl')"
   ]
  },
  {
   "cell_type": "code",
   "execution_count": null,
   "id": "df5391cd-0eae-422a-8434-82ff5333d6ab",
   "metadata": {
    "scrolled": true
   },
   "outputs": [],
   "source": [
    "#print(raw_data.columns.tolist())"
   ]
  },
  {
   "cell_type": "markdown",
   "id": "ff47c753-b8d2-49f3-96f8-c3c477973b84",
   "metadata": {
    "jp-MarkdownHeadingCollapsed": true
   },
   "source": [
    "# Select Features"
   ]
  },
  {
   "cell_type": "code",
   "execution_count": null,
   "id": "0bfb743b-46ef-4814-8667-d173ea31882e",
   "metadata": {},
   "outputs": [],
   "source": [
    "features = raw_data[['product_name','food_groups_en','proteins_100g','nutriscore_grade','energy-kj_100g','fat_100g','saturated-fat_100g','sugars_100g','fiber_100g','salt_100g']]"
   ]
  },
  {
   "cell_type": "code",
   "execution_count": null,
   "id": "f8723e90-eaa6-44c8-99d2-f419603c218c",
   "metadata": {},
   "outputs": [],
   "source": [
    "#features.info()"
   ]
  },
  {
   "cell_type": "code",
   "execution_count": null,
   "id": "9483c639-bcd6-4f1b-9105-b22066e32d1a",
   "metadata": {},
   "outputs": [],
   "source": [
    "features.to_pickle('features.pkl')"
   ]
  },
  {
   "cell_type": "code",
   "execution_count": 7,
   "id": "6dcd53bd-044e-46d7-b41b-49559e70dc5e",
   "metadata": {},
   "outputs": [],
   "source": [
    "features = pd.read_pickle('features.pkl')"
   ]
  },
  {
   "cell_type": "code",
   "execution_count": 8,
   "id": "cb054961-77f2-47d6-8346-72fde6189c25",
   "metadata": {},
   "outputs": [
    {
     "data": {
      "text/html": [
       "<div>\n",
       "<style scoped>\n",
       "    .dataframe tbody tr th:only-of-type {\n",
       "        vertical-align: middle;\n",
       "    }\n",
       "\n",
       "    .dataframe tbody tr th {\n",
       "        vertical-align: top;\n",
       "    }\n",
       "\n",
       "    .dataframe thead th {\n",
       "        text-align: right;\n",
       "    }\n",
       "</style>\n",
       "<table border=\"1\" class=\"dataframe\">\n",
       "  <thead>\n",
       "    <tr style=\"text-align: right;\">\n",
       "      <th></th>\n",
       "      <th>product_name</th>\n",
       "      <th>food_groups_en</th>\n",
       "      <th>proteins_100g</th>\n",
       "      <th>nutriscore_grade</th>\n",
       "      <th>energy-kj_100g</th>\n",
       "      <th>fat_100g</th>\n",
       "      <th>saturated-fat_100g</th>\n",
       "      <th>sugars_100g</th>\n",
       "      <th>fiber_100g</th>\n",
       "      <th>salt_100g</th>\n",
       "    </tr>\n",
       "  </thead>\n",
       "  <tbody>\n",
       "    <tr>\n",
       "      <th>0</th>\n",
       "      <td>jeunes pousses</td>\n",
       "      <td>NaN</td>\n",
       "      <td>NaN</td>\n",
       "      <td>NaN</td>\n",
       "      <td>NaN</td>\n",
       "      <td>NaN</td>\n",
       "      <td>NaN</td>\n",
       "      <td>NaN</td>\n",
       "      <td>NaN</td>\n",
       "      <td>NaN</td>\n",
       "    </tr>\n",
       "    <tr>\n",
       "      <th>1</th>\n",
       "      <td>Andrè</td>\n",
       "      <td>NaN</td>\n",
       "      <td>1.5</td>\n",
       "      <td>NaN</td>\n",
       "      <td>NaN</td>\n",
       "      <td>2.0</td>\n",
       "      <td>2.00</td>\n",
       "      <td>12.6</td>\n",
       "      <td>3.0</td>\n",
       "      <td>NaN</td>\n",
       "    </tr>\n",
       "    <tr>\n",
       "      <th>2</th>\n",
       "      <td>L.casei</td>\n",
       "      <td>NaN</td>\n",
       "      <td>2.7</td>\n",
       "      <td>NaN</td>\n",
       "      <td>NaN</td>\n",
       "      <td>1.4</td>\n",
       "      <td>0.90</td>\n",
       "      <td>9.8</td>\n",
       "      <td>NaN</td>\n",
       "      <td>0.10</td>\n",
       "    </tr>\n",
       "    <tr>\n",
       "      <th>3</th>\n",
       "      <td>Skyr</td>\n",
       "      <td>Milk and dairy products,Dairy desserts</td>\n",
       "      <td>10.0</td>\n",
       "      <td>a</td>\n",
       "      <td>NaN</td>\n",
       "      <td>0.2</td>\n",
       "      <td>0.10</td>\n",
       "      <td>3.9</td>\n",
       "      <td>NaN</td>\n",
       "      <td>0.09</td>\n",
       "    </tr>\n",
       "    <tr>\n",
       "      <th>4</th>\n",
       "      <td>Vitória crackers</td>\n",
       "      <td>NaN</td>\n",
       "      <td>7.8</td>\n",
       "      <td>NaN</td>\n",
       "      <td>NaN</td>\n",
       "      <td>7.0</td>\n",
       "      <td>3.08</td>\n",
       "      <td>15.0</td>\n",
       "      <td>NaN</td>\n",
       "      <td>1.40</td>\n",
       "    </tr>\n",
       "  </tbody>\n",
       "</table>\n",
       "</div>"
      ],
      "text/plain": [
       "       product_name                          food_groups_en  proteins_100g  \\\n",
       "0    jeunes pousses                                     NaN            NaN   \n",
       "1             Andrè                                     NaN            1.5   \n",
       "2           L.casei                                     NaN            2.7   \n",
       "3              Skyr  Milk and dairy products,Dairy desserts           10.0   \n",
       "4  Vitória crackers                                     NaN            7.8   \n",
       "\n",
       "  nutriscore_grade  energy-kj_100g  fat_100g  saturated-fat_100g  sugars_100g  \\\n",
       "0              NaN             NaN       NaN                 NaN          NaN   \n",
       "1              NaN             NaN       2.0                2.00         12.6   \n",
       "2              NaN             NaN       1.4                0.90          9.8   \n",
       "3                a             NaN       0.2                0.10          3.9   \n",
       "4              NaN             NaN       7.0                3.08         15.0   \n",
       "\n",
       "   fiber_100g  salt_100g  \n",
       "0         NaN        NaN  \n",
       "1         3.0        NaN  \n",
       "2         NaN       0.10  \n",
       "3         NaN       0.09  \n",
       "4         NaN       1.40  "
      ]
     },
     "execution_count": 8,
     "metadata": {},
     "output_type": "execute_result"
    }
   ],
   "source": [
    "features.head()"
   ]
  },
  {
   "cell_type": "markdown",
   "id": "bbe34fd0-cf20-43e9-90f8-3f22be02f9b4",
   "metadata": {
    "jp-MarkdownHeadingCollapsed": true
   },
   "source": [
    "# Dataset for Prediction"
   ]
  },
  {
   "cell_type": "code",
   "execution_count": 9,
   "id": "1c8f8ed1-0c69-4711-9820-f45c61092d0e",
   "metadata": {},
   "outputs": [],
   "source": [
    "nutrition_data = features.dropna(subset = ['nutriscore_grade','food_groups_en'])"
   ]
  },
  {
   "cell_type": "code",
   "execution_count": 10,
   "id": "4109a355-8721-4979-b1c5-eec4404e4da8",
   "metadata": {},
   "outputs": [
    {
     "name": "stdout",
     "output_type": "stream",
     "text": [
      "<class 'pandas.core.frame.DataFrame'>\n",
      "Index: 760116 entries, 3 to 2809007\n",
      "Data columns (total 10 columns):\n",
      " #   Column              Non-Null Count   Dtype  \n",
      "---  ------              --------------   -----  \n",
      " 0   product_name        756879 non-null  object \n",
      " 1   food_groups_en      760116 non-null  object \n",
      " 2   proteins_100g       757605 non-null  float64\n",
      " 3   nutriscore_grade    760116 non-null  object \n",
      " 4   energy-kj_100g      150375 non-null  float64\n",
      " 5   fat_100g            757607 non-null  float64\n",
      " 6   saturated-fat_100g  757390 non-null  float64\n",
      " 7   sugars_100g         757555 non-null  float64\n",
      " 8   fiber_100g          402749 non-null  float64\n",
      " 9   salt_100g           758123 non-null  float64\n",
      "dtypes: float64(7), object(3)\n",
      "memory usage: 63.8+ MB\n"
     ]
    }
   ],
   "source": [
    "nutrition_data.info()"
   ]
  },
  {
   "cell_type": "code",
   "execution_count": 11,
   "id": "d2b87b94-27a7-4596-898f-943c49773206",
   "metadata": {},
   "outputs": [
    {
     "data": {
      "text/html": [
       "<div>\n",
       "<style scoped>\n",
       "    .dataframe tbody tr th:only-of-type {\n",
       "        vertical-align: middle;\n",
       "    }\n",
       "\n",
       "    .dataframe tbody tr th {\n",
       "        vertical-align: top;\n",
       "    }\n",
       "\n",
       "    .dataframe thead th {\n",
       "        text-align: right;\n",
       "    }\n",
       "</style>\n",
       "<table border=\"1\" class=\"dataframe\">\n",
       "  <thead>\n",
       "    <tr style=\"text-align: right;\">\n",
       "      <th></th>\n",
       "      <th>product_name</th>\n",
       "      <th>food_groups_en</th>\n",
       "      <th>proteins_100g</th>\n",
       "      <th>nutriscore_grade</th>\n",
       "      <th>energy-kj_100g</th>\n",
       "      <th>fat_100g</th>\n",
       "      <th>saturated-fat_100g</th>\n",
       "      <th>sugars_100g</th>\n",
       "      <th>fiber_100g</th>\n",
       "      <th>salt_100g</th>\n",
       "    </tr>\n",
       "  </thead>\n",
       "  <tbody>\n",
       "    <tr>\n",
       "      <th>3</th>\n",
       "      <td>Skyr</td>\n",
       "      <td>Milk and dairy products,Dairy desserts</td>\n",
       "      <td>10.0</td>\n",
       "      <td>a</td>\n",
       "      <td>NaN</td>\n",
       "      <td>0.2</td>\n",
       "      <td>0.1</td>\n",
       "      <td>3.9</td>\n",
       "      <td>NaN</td>\n",
       "      <td>0.09</td>\n",
       "    </tr>\n",
       "    <tr>\n",
       "      <th>11</th>\n",
       "      <td>moutarde au moût de raisin</td>\n",
       "      <td>Fats and sauces,Dressings and sauces</td>\n",
       "      <td>5.1</td>\n",
       "      <td>d</td>\n",
       "      <td>936.0</td>\n",
       "      <td>8.2</td>\n",
       "      <td>2.2</td>\n",
       "      <td>22.0</td>\n",
       "      <td>0.0</td>\n",
       "      <td>4.60</td>\n",
       "    </tr>\n",
       "    <tr>\n",
       "      <th>20</th>\n",
       "      <td>Pur jus de pomme</td>\n",
       "      <td>Beverages,Fruit juices</td>\n",
       "      <td>0.2</td>\n",
       "      <td>d</td>\n",
       "      <td>NaN</td>\n",
       "      <td>0.0</td>\n",
       "      <td>0.0</td>\n",
       "      <td>15.5</td>\n",
       "      <td>NaN</td>\n",
       "      <td>0.00</td>\n",
       "    </tr>\n",
       "    <tr>\n",
       "      <th>22</th>\n",
       "      <td>Salade de carottes râpées</td>\n",
       "      <td>Composite foods,One-dish meals</td>\n",
       "      <td>0.9</td>\n",
       "      <td>b</td>\n",
       "      <td>NaN</td>\n",
       "      <td>0.3</td>\n",
       "      <td>0.1</td>\n",
       "      <td>3.9</td>\n",
       "      <td>NaN</td>\n",
       "      <td>0.42</td>\n",
       "    </tr>\n",
       "    <tr>\n",
       "      <th>31</th>\n",
       "      <td>Tarte noix de coco</td>\n",
       "      <td>Composite foods,Pizza pies and quiches</td>\n",
       "      <td>4.6</td>\n",
       "      <td>d</td>\n",
       "      <td>NaN</td>\n",
       "      <td>22.0</td>\n",
       "      <td>15.5</td>\n",
       "      <td>21.9</td>\n",
       "      <td>4.4</td>\n",
       "      <td>0.10</td>\n",
       "    </tr>\n",
       "  </tbody>\n",
       "</table>\n",
       "</div>"
      ],
      "text/plain": [
       "                    product_name                          food_groups_en  \\\n",
       "3                           Skyr  Milk and dairy products,Dairy desserts   \n",
       "11   moutarde au moût de raisin     Fats and sauces,Dressings and sauces   \n",
       "20              Pur jus de pomme                  Beverages,Fruit juices   \n",
       "22     Salade de carottes râpées          Composite foods,One-dish meals   \n",
       "31            Tarte noix de coco  Composite foods,Pizza pies and quiches   \n",
       "\n",
       "    proteins_100g nutriscore_grade  energy-kj_100g  fat_100g  \\\n",
       "3            10.0                a             NaN       0.2   \n",
       "11            5.1                d           936.0       8.2   \n",
       "20            0.2                d             NaN       0.0   \n",
       "22            0.9                b             NaN       0.3   \n",
       "31            4.6                d             NaN      22.0   \n",
       "\n",
       "    saturated-fat_100g  sugars_100g  fiber_100g  salt_100g  \n",
       "3                  0.1          3.9         NaN       0.09  \n",
       "11                 2.2         22.0         0.0       4.60  \n",
       "20                 0.0         15.5         NaN       0.00  \n",
       "22                 0.1          3.9         NaN       0.42  \n",
       "31                15.5         21.9         4.4       0.10  "
      ]
     },
     "execution_count": 11,
     "metadata": {},
     "output_type": "execute_result"
    }
   ],
   "source": [
    "nutrition_data.head()"
   ]
  },
  {
   "cell_type": "code",
   "execution_count": 12,
   "id": "99e3abfa-f72d-44a0-bcf4-814e5e932bb2",
   "metadata": {},
   "outputs": [],
   "source": [
    "float_columns = nutrition_data.select_dtypes(include='float').columns.tolist()"
   ]
  },
  {
   "cell_type": "code",
   "execution_count": 13,
   "id": "98d2cad1-8f92-43a5-bfa2-769d4f1260a7",
   "metadata": {},
   "outputs": [],
   "source": [
    "for column in float_columns:\n",
    "    nutrition_data.loc[:, column] = nutrition_data.groupby('food_groups_en')[column].transform(lambda x: x.fillna(x.mean()))"
   ]
  },
  {
   "cell_type": "code",
   "execution_count": 14,
   "id": "2d85c397-c491-4858-be63-ae1c841af5de",
   "metadata": {},
   "outputs": [],
   "source": [
    "nutrition_data = nutrition_data.drop(['food_groups_en','product_name'],axis = 1)"
   ]
  },
  {
   "cell_type": "code",
   "execution_count": 15,
   "id": "2472c675-294b-4ee6-8a6d-c9276529cde7",
   "metadata": {},
   "outputs": [
    {
     "name": "stdout",
     "output_type": "stream",
     "text": [
      "Number of duplicate rows: 196890\n"
     ]
    }
   ],
   "source": [
    "num_duplicates = nutrition_data.duplicated().sum()\n",
    "print(f\"Number of duplicate rows: {num_duplicates}\")"
   ]
  },
  {
   "cell_type": "code",
   "execution_count": 16,
   "id": "94e56438-bbd6-469f-a031-1cbdd6c52e1e",
   "metadata": {},
   "outputs": [],
   "source": [
    "nutrition_data = nutrition_data.drop_duplicates()"
   ]
  },
  {
   "cell_type": "code",
   "execution_count": 17,
   "id": "1813ee8e-a39d-4180-8ff4-ba3a7c9da597",
   "metadata": {},
   "outputs": [
    {
     "name": "stdout",
     "output_type": "stream",
     "text": [
      "Number of duplicate rows: 0\n"
     ]
    }
   ],
   "source": [
    "num_duplicates = nutrition_data.duplicated().sum()\n",
    "print(f\"Number of duplicate rows: {num_duplicates}\")"
   ]
  },
  {
   "cell_type": "code",
   "execution_count": 18,
   "id": "f8737c33-143e-409c-a7be-4da0789d344e",
   "metadata": {},
   "outputs": [],
   "source": [
    "nutrition_data.to_pickle('nutrition_data.pkl')"
   ]
  },
  {
   "cell_type": "code",
   "execution_count": 3,
   "id": "9e1a7b80-9dcf-4e65-89d8-3bab9ae10999",
   "metadata": {},
   "outputs": [],
   "source": [
    "nutrition_data = pd.read_pickle('nutrition_data.pkl')"
   ]
  },
  {
   "cell_type": "code",
   "execution_count": 20,
   "id": "6e40352d-5658-4733-a548-01d409023efe",
   "metadata": {},
   "outputs": [],
   "source": [
    "nutrition_data.to_csv('nutrition_data.csv', index=False)"
   ]
  },
  {
   "cell_type": "code",
   "execution_count": 21,
   "id": "7bbd2f88-8a55-46ee-b578-d04e63f8fc52",
   "metadata": {},
   "outputs": [
    {
     "data": {
      "text/html": [
       "<div>\n",
       "<style scoped>\n",
       "    .dataframe tbody tr th:only-of-type {\n",
       "        vertical-align: middle;\n",
       "    }\n",
       "\n",
       "    .dataframe tbody tr th {\n",
       "        vertical-align: top;\n",
       "    }\n",
       "\n",
       "    .dataframe thead th {\n",
       "        text-align: right;\n",
       "    }\n",
       "</style>\n",
       "<table border=\"1\" class=\"dataframe\">\n",
       "  <thead>\n",
       "    <tr style=\"text-align: right;\">\n",
       "      <th></th>\n",
       "      <th>proteins_100g</th>\n",
       "      <th>energy-kj_100g</th>\n",
       "      <th>fat_100g</th>\n",
       "      <th>saturated-fat_100g</th>\n",
       "      <th>sugars_100g</th>\n",
       "      <th>fiber_100g</th>\n",
       "      <th>salt_100g</th>\n",
       "    </tr>\n",
       "  </thead>\n",
       "  <tbody>\n",
       "    <tr>\n",
       "      <th>count</th>\n",
       "      <td>563226.000000</td>\n",
       "      <td>5.632260e+05</td>\n",
       "      <td>563226.000000</td>\n",
       "      <td>563226.000000</td>\n",
       "      <td>563226.000000</td>\n",
       "      <td>5.632260e+05</td>\n",
       "      <td>5.632260e+05</td>\n",
       "    </tr>\n",
       "    <tr>\n",
       "      <th>mean</th>\n",
       "      <td>8.258753</td>\n",
       "      <td>1.139609e+03</td>\n",
       "      <td>15.771536</td>\n",
       "      <td>5.452103</td>\n",
       "      <td>12.929391</td>\n",
       "      <td>2.416451e+03</td>\n",
       "      <td>1.790432e+02</td>\n",
       "    </tr>\n",
       "    <tr>\n",
       "      <th>std</th>\n",
       "      <td>9.562922</td>\n",
       "      <td>1.599084e+03</td>\n",
       "      <td>1332.558456</td>\n",
       "      <td>133.479545</td>\n",
       "      <td>134.502382</td>\n",
       "      <td>1.332498e+06</td>\n",
       "      <td>1.332474e+05</td>\n",
       "    </tr>\n",
       "    <tr>\n",
       "      <th>min</th>\n",
       "      <td>-15.000000</td>\n",
       "      <td>0.000000e+00</td>\n",
       "      <td>0.000000</td>\n",
       "      <td>0.000000</td>\n",
       "      <td>-1.000000</td>\n",
       "      <td>-4.000000e+00</td>\n",
       "      <td>0.000000e+00</td>\n",
       "    </tr>\n",
       "    <tr>\n",
       "      <th>25%</th>\n",
       "      <td>2.300000</td>\n",
       "      <td>6.838095e+02</td>\n",
       "      <td>1.500000</td>\n",
       "      <td>0.200000</td>\n",
       "      <td>0.910000</td>\n",
       "      <td>4.000000e-01</td>\n",
       "      <td>1.000000e-01</td>\n",
       "    </tr>\n",
       "    <tr>\n",
       "      <th>50%</th>\n",
       "      <td>6.250000</td>\n",
       "      <td>1.034644e+03</td>\n",
       "      <td>8.100000</td>\n",
       "      <td>2.027027</td>\n",
       "      <td>4.000000</td>\n",
       "      <td>1.906709e+00</td>\n",
       "      <td>6.400000e-01</td>\n",
       "    </tr>\n",
       "    <tr>\n",
       "      <th>75%</th>\n",
       "      <td>11.600000</td>\n",
       "      <td>1.506110e+03</td>\n",
       "      <td>22.000000</td>\n",
       "      <td>7.400000</td>\n",
       "      <td>18.100000</td>\n",
       "      <td>3.800000e+00</td>\n",
       "      <td>1.320000e+00</td>\n",
       "    </tr>\n",
       "    <tr>\n",
       "      <th>max</th>\n",
       "      <td>3000.000000</td>\n",
       "      <td>1.094259e+06</td>\n",
       "      <td>999999.000000</td>\n",
       "      <td>99999.000000</td>\n",
       "      <td>99999.000000</td>\n",
       "      <td>1.000000e+09</td>\n",
       "      <td>1.000000e+08</td>\n",
       "    </tr>\n",
       "  </tbody>\n",
       "</table>\n",
       "</div>"
      ],
      "text/plain": [
       "       proteins_100g  energy-kj_100g       fat_100g  saturated-fat_100g  \\\n",
       "count  563226.000000    5.632260e+05  563226.000000       563226.000000   \n",
       "mean        8.258753    1.139609e+03      15.771536            5.452103   \n",
       "std         9.562922    1.599084e+03    1332.558456          133.479545   \n",
       "min       -15.000000    0.000000e+00       0.000000            0.000000   \n",
       "25%         2.300000    6.838095e+02       1.500000            0.200000   \n",
       "50%         6.250000    1.034644e+03       8.100000            2.027027   \n",
       "75%        11.600000    1.506110e+03      22.000000            7.400000   \n",
       "max      3000.000000    1.094259e+06  999999.000000        99999.000000   \n",
       "\n",
       "         sugars_100g    fiber_100g     salt_100g  \n",
       "count  563226.000000  5.632260e+05  5.632260e+05  \n",
       "mean       12.929391  2.416451e+03  1.790432e+02  \n",
       "std       134.502382  1.332498e+06  1.332474e+05  \n",
       "min        -1.000000 -4.000000e+00  0.000000e+00  \n",
       "25%         0.910000  4.000000e-01  1.000000e-01  \n",
       "50%         4.000000  1.906709e+00  6.400000e-01  \n",
       "75%        18.100000  3.800000e+00  1.320000e+00  \n",
       "max     99999.000000  1.000000e+09  1.000000e+08  "
      ]
     },
     "execution_count": 21,
     "metadata": {},
     "output_type": "execute_result"
    }
   ],
   "source": [
    "nutrition_data.describe()"
   ]
  },
  {
   "cell_type": "code",
   "execution_count": 22,
   "id": "3cac55b4-6a30-4573-97a3-a3d8bfdeeb30",
   "metadata": {},
   "outputs": [
    {
     "name": "stdout",
     "output_type": "stream",
     "text": [
      "Shape after removing rows with max values from all numeric columns: (563219, 8)\n"
     ]
    }
   ],
   "source": [
    "def remove_max_value_all_numeric(df):\n",
    "    for column in df.select_dtypes(include='number').columns:\n",
    "        max_value = df[column].max()\n",
    "        df = df[df[column] != max_value]\n",
    "    return df\n",
    "\n",
    "nutrition_data = remove_max_value_all_numeric(nutrition_data)\n",
    "print(f\"Shape after removing rows with max values from all numeric columns: {nutrition_data.shape}\")"
   ]
  },
  {
   "cell_type": "code",
   "execution_count": 23,
   "id": "ae257bb9-6642-4299-81cc-189e5a3c4ddd",
   "metadata": {},
   "outputs": [
    {
     "data": {
      "text/html": [
       "<div>\n",
       "<style scoped>\n",
       "    .dataframe tbody tr th:only-of-type {\n",
       "        vertical-align: middle;\n",
       "    }\n",
       "\n",
       "    .dataframe tbody tr th {\n",
       "        vertical-align: top;\n",
       "    }\n",
       "\n",
       "    .dataframe thead th {\n",
       "        text-align: right;\n",
       "    }\n",
       "</style>\n",
       "<table border=\"1\" class=\"dataframe\">\n",
       "  <thead>\n",
       "    <tr style=\"text-align: right;\">\n",
       "      <th></th>\n",
       "      <th>proteins_100g</th>\n",
       "      <th>energy-kj_100g</th>\n",
       "      <th>fat_100g</th>\n",
       "      <th>saturated-fat_100g</th>\n",
       "      <th>sugars_100g</th>\n",
       "      <th>fiber_100g</th>\n",
       "      <th>salt_100g</th>\n",
       "    </tr>\n",
       "  </thead>\n",
       "  <tbody>\n",
       "    <tr>\n",
       "      <th>count</th>\n",
       "      <td>563219.000000</td>\n",
       "      <td>563219.000000</td>\n",
       "      <td>563219.000000</td>\n",
       "      <td>563219.000000</td>\n",
       "      <td>563219.000000</td>\n",
       "      <td>563219.000000</td>\n",
       "      <td>563219.000000</td>\n",
       "    </tr>\n",
       "    <tr>\n",
       "      <th>mean</th>\n",
       "      <td>8.253372</td>\n",
       "      <td>1137.671382</td>\n",
       "      <td>13.995007</td>\n",
       "      <td>5.272971</td>\n",
       "      <td>12.746398</td>\n",
       "      <td>640.972868</td>\n",
       "      <td>1.483009</td>\n",
       "    </tr>\n",
       "    <tr>\n",
       "      <th>std</th>\n",
       "      <td>8.692128</td>\n",
       "      <td>659.933236</td>\n",
       "      <td>16.685247</td>\n",
       "      <td>7.918452</td>\n",
       "      <td>17.996401</td>\n",
       "      <td>8128.421042</td>\n",
       "      <td>23.769670</td>\n",
       "    </tr>\n",
       "    <tr>\n",
       "      <th>min</th>\n",
       "      <td>-15.000000</td>\n",
       "      <td>0.000000</td>\n",
       "      <td>0.000000</td>\n",
       "      <td>0.000000</td>\n",
       "      <td>-1.000000</td>\n",
       "      <td>-4.000000</td>\n",
       "      <td>0.000000</td>\n",
       "    </tr>\n",
       "    <tr>\n",
       "      <th>25%</th>\n",
       "      <td>2.300000</td>\n",
       "      <td>683.809497</td>\n",
       "      <td>1.500000</td>\n",
       "      <td>0.200000</td>\n",
       "      <td>0.910000</td>\n",
       "      <td>0.400000</td>\n",
       "      <td>0.100000</td>\n",
       "    </tr>\n",
       "    <tr>\n",
       "      <th>50%</th>\n",
       "      <td>6.250000</td>\n",
       "      <td>1034.644485</td>\n",
       "      <td>8.100000</td>\n",
       "      <td>2.027027</td>\n",
       "      <td>4.000000</td>\n",
       "      <td>1.906709</td>\n",
       "      <td>0.640000</td>\n",
       "    </tr>\n",
       "    <tr>\n",
       "      <th>75%</th>\n",
       "      <td>11.600000</td>\n",
       "      <td>1506.110123</td>\n",
       "      <td>22.000000</td>\n",
       "      <td>7.400000</td>\n",
       "      <td>18.100000</td>\n",
       "      <td>3.800000</td>\n",
       "      <td>1.320000</td>\n",
       "    </tr>\n",
       "    <tr>\n",
       "      <th>max</th>\n",
       "      <td>2000.000000</td>\n",
       "      <td>31246.000000</td>\n",
       "      <td>916.000000</td>\n",
       "      <td>459.000000</td>\n",
       "      <td>788.000000</td>\n",
       "      <td>300000.000000</td>\n",
       "      <td>5483.000000</td>\n",
       "    </tr>\n",
       "  </tbody>\n",
       "</table>\n",
       "</div>"
      ],
      "text/plain": [
       "       proteins_100g  energy-kj_100g       fat_100g  saturated-fat_100g  \\\n",
       "count  563219.000000   563219.000000  563219.000000       563219.000000   \n",
       "mean        8.253372     1137.671382      13.995007            5.272971   \n",
       "std         8.692128      659.933236      16.685247            7.918452   \n",
       "min       -15.000000        0.000000       0.000000            0.000000   \n",
       "25%         2.300000      683.809497       1.500000            0.200000   \n",
       "50%         6.250000     1034.644485       8.100000            2.027027   \n",
       "75%        11.600000     1506.110123      22.000000            7.400000   \n",
       "max      2000.000000    31246.000000     916.000000          459.000000   \n",
       "\n",
       "         sugars_100g     fiber_100g      salt_100g  \n",
       "count  563219.000000  563219.000000  563219.000000  \n",
       "mean       12.746398     640.972868       1.483009  \n",
       "std        17.996401    8128.421042      23.769670  \n",
       "min        -1.000000      -4.000000       0.000000  \n",
       "25%         0.910000       0.400000       0.100000  \n",
       "50%         4.000000       1.906709       0.640000  \n",
       "75%        18.100000       3.800000       1.320000  \n",
       "max       788.000000  300000.000000    5483.000000  "
      ]
     },
     "execution_count": 23,
     "metadata": {},
     "output_type": "execute_result"
    }
   ],
   "source": [
    "nutrition_data.describe()"
   ]
  },
  {
   "cell_type": "markdown",
   "id": "b80740e7-699e-4066-a5dd-a016346aa6db",
   "metadata": {
    "jp-MarkdownHeadingCollapsed": true
   },
   "source": [
    "# Remove Outliers"
   ]
  },
  {
   "cell_type": "code",
   "execution_count": 24,
   "id": "aaa38a34-a491-4404-878d-2b8e53ac84af",
   "metadata": {},
   "outputs": [
    {
     "data": {
      "image/png": "[encoded data removed]",
      "text/plain": [
       "<Figure size 800x400 with 1 Axes>"
      ]
     },
     "metadata": {},
     "output_type": "display_data"
    },
    {
     "data": {
      "image/png": "[encoded data removed]",
      "text/plain": [
       "<Figure size 800x400 with 1 Axes>"
      ]
     },
     "metadata": {},
     "output_type": "display_data"
    },
    {
     "data": {
      "image/png": "[encoded data removed]",
      "text/plain": [
       "<Figure size 800x400 with 1 Axes>"
      ]
     },
     "metadata": {},
     "output_type": "display_data"
    },
    {
     "data": {
      "image/png": "[encoded data removed]",
      "text/plain": [
       "<Figure size 800x400 with 1 Axes>"
      ]
     },
     "metadata": {},
     "output_type": "display_data"
    },
    {
     "data": {
      "image/png": "[encoded data removed]",
      "text/plain": [
       "<Figure size 800x400 with 1 Axes>"
      ]
     },
     "metadata": {},
     "output_type": "display_data"
    },
    {
     "data": {
      "image/png": "[encoded data removed]",
      "text/plain": [
       "<Figure size 800x400 with 1 Axes>"
      ]
     },
     "metadata": {},
     "output_type": "display_data"
    },
    {
     "data": {
      "image/png": "[encoded data removed]",
      "text/plain": [
       "<Figure size 800x400 with 1 Axes>"
      ]
     },
     "metadata": {},
     "output_type": "display_data"
    }
   ],
   "source": [
    "for column in nutrition_data.select_dtypes(include=['float64']).columns:\n",
    "    plt.figure(figsize=(8, 4))\n",
    "    sns.boxplot(x=nutrition_data[column])\n",
    "    plt.title(f'Boxplot of {column}')\n",
    "    plt.xlabel(column)\n",
    "    plt.show()"
   ]
  },
  {
   "cell_type": "code",
   "execution_count": 4,
   "id": "2d556453-420e-4992-8b1a-180f98ac6545",
   "metadata": {},
   "outputs": [
    {
     "name": "stdout",
     "output_type": "stream",
     "text": [
      "Shape before removing outliers: (563226, 8)\n",
      "Shape after removing outliers: (387531, 8)\n"
     ]
    }
   ],
   "source": [
    "def remove_outliers_iqr(df, columns):\n",
    "    for column in columns:\n",
    "        Q1 = df[column].quantile(0.25)  # First quartile (25th percentile)\n",
    "        Q3 = df[column].quantile(0.75)  # Third quartile (75th percentile)\n",
    "        IQR = Q3 - Q1  # Interquartile range\n",
    "\n",
    "        # Define outlier boundaries\n",
    "        lower_bound = Q1 - 1.5 * IQR\n",
    "        upper_bound = Q3 + 1.5 * IQR\n",
    "\n",
    "        # Filter rows within the range\n",
    "        df = df[(df[column] >= lower_bound) & (df[column] <= upper_bound)]\n",
    "    \n",
    "    return df\n",
    "\n",
    "# Select numeric columns for outlier removal\n",
    "numeric_columns = nutrition_data.select_dtypes(include='float').columns\n",
    "\n",
    "# Remove outliers\n",
    "nutrition_data_no_outliers = remove_outliers_iqr(nutrition_data, numeric_columns)\n",
    "\n",
    "print(f\"Shape before removing outliers: {nutrition_data.shape}\")\n",
    "print(f\"Shape after removing outliers: {nutrition_data_no_outliers.shape}\")"
   ]
  },
  {
   "cell_type": "code",
   "execution_count": 26,
   "id": "0cd198f1-aaad-4951-9ddc-d65175ef410d",
   "metadata": {
    "scrolled": true
   },
   "outputs": [
    {
     "data": {
      "image/png": "[encoded data removed]",
      "text/plain": [
       "<Figure size 800x400 with 1 Axes>"
      ]
     },
     "metadata": {},
     "output_type": "display_data"
    },
    {
     "data": {
      "image/png": "[encoded data removed]",
      "text/plain": [
       "<Figure size 800x400 with 1 Axes>"
      ]
     },
     "metadata": {},
     "output_type": "display_data"
    },
    {
     "data": {
      "image/png": "[encoded data removed]",
      "text/plain": [
       "<Figure size 800x400 with 1 Axes>"
      ]
     },
     "metadata": {},
     "output_type": "display_data"
    },
    {
     "data": {
      "image/png": "[encoded data removed]",
      "text/plain": [
       "<Figure size 800x400 with 1 Axes>"
      ]
     },
     "metadata": {},
     "output_type": "display_data"
    },
    {
     "data": {
      "image/png": "[encoded data removed]",
      "text/plain": [
       "<Figure size 800x400 with 1 Axes>"
      ]
     },
     "metadata": {},
     "output_type": "display_data"
    },
    {
     "data": {
      "image/png": "[encoded data removed]",
      "text/plain": [
       "<Figure size 800x400 with 1 Axes>"
      ]
     },
     "metadata": {},
     "output_type": "display_data"
    },
    {
     "data": {
      "image/png": "[encoded data removed]",
      "text/plain": [
       "<Figure size 800x400 with 1 Axes>"
      ]
     },
     "metadata": {},
     "output_type": "display_data"
    }
   ],
   "source": [
    "for column in nutrition_data_no_outliers.select_dtypes(include=['float64']).columns:\n",
    "    plt.figure(figsize=(8, 4))\n",
    "    sns.boxplot(x=nutrition_data_no_outliers[column])\n",
    "    plt.title(f'Boxplot of {column}')\n",
    "    plt.xlabel(column)\n",
    "    plt.show()"
   ]
  },
  {
   "cell_type": "code",
   "execution_count": 5,
   "id": "eb80f91c-5f09-4230-aa0a-3a53681dd5fc",
   "metadata": {},
   "outputs": [
    {
     "data": {
      "text/html": [
       "<div>\n",
       "<style scoped>\n",
       "    .dataframe tbody tr th:only-of-type {\n",
       "        vertical-align: middle;\n",
       "    }\n",
       "\n",
       "    .dataframe tbody tr th {\n",
       "        vertical-align: top;\n",
       "    }\n",
       "\n",
       "    .dataframe thead th {\n",
       "        text-align: right;\n",
       "    }\n",
       "</style>\n",
       "<table border=\"1\" class=\"dataframe\">\n",
       "  <thead>\n",
       "    <tr style=\"text-align: right;\">\n",
       "      <th></th>\n",
       "      <th>proteins_100g</th>\n",
       "      <th>nutriscore_grade</th>\n",
       "      <th>energy-kj_100g</th>\n",
       "      <th>fat_100g</th>\n",
       "      <th>saturated-fat_100g</th>\n",
       "      <th>sugars_100g</th>\n",
       "      <th>fiber_100g</th>\n",
       "      <th>salt_100g</th>\n",
       "    </tr>\n",
       "  </thead>\n",
       "  <tbody>\n",
       "    <tr>\n",
       "      <th>0</th>\n",
       "      <td>10.0</td>\n",
       "      <td>a</td>\n",
       "      <td>542.262831</td>\n",
       "      <td>0.2</td>\n",
       "      <td>0.1</td>\n",
       "      <td>3.9</td>\n",
       "      <td>0.626513</td>\n",
       "      <td>0.09</td>\n",
       "    </tr>\n",
       "    <tr>\n",
       "      <th>1</th>\n",
       "      <td>0.2</td>\n",
       "      <td>d</td>\n",
       "      <td>193.400710</td>\n",
       "      <td>0.0</td>\n",
       "      <td>0.0</td>\n",
       "      <td>15.5</td>\n",
       "      <td>0.426750</td>\n",
       "      <td>0.00</td>\n",
       "    </tr>\n",
       "    <tr>\n",
       "      <th>2</th>\n",
       "      <td>0.9</td>\n",
       "      <td>b</td>\n",
       "      <td>683.809497</td>\n",
       "      <td>0.3</td>\n",
       "      <td>0.1</td>\n",
       "      <td>3.9</td>\n",
       "      <td>2.098569</td>\n",
       "      <td>0.42</td>\n",
       "    </tr>\n",
       "    <tr>\n",
       "      <th>3</th>\n",
       "      <td>4.6</td>\n",
       "      <td>d</td>\n",
       "      <td>1055.578361</td>\n",
       "      <td>22.0</td>\n",
       "      <td>15.5</td>\n",
       "      <td>21.9</td>\n",
       "      <td>4.400000</td>\n",
       "      <td>0.10</td>\n",
       "    </tr>\n",
       "    <tr>\n",
       "      <th>4</th>\n",
       "      <td>0.6</td>\n",
       "      <td>a</td>\n",
       "      <td>401.112130</td>\n",
       "      <td>0.0</td>\n",
       "      <td>0.0</td>\n",
       "      <td>27.0</td>\n",
       "      <td>3.600000</td>\n",
       "      <td>0.00</td>\n",
       "    </tr>\n",
       "    <tr>\n",
       "      <th>...</th>\n",
       "      <td>...</td>\n",
       "      <td>...</td>\n",
       "      <td>...</td>\n",
       "      <td>...</td>\n",
       "      <td>...</td>\n",
       "      <td>...</td>\n",
       "      <td>...</td>\n",
       "      <td>...</td>\n",
       "    </tr>\n",
       "    <tr>\n",
       "      <th>387526</th>\n",
       "      <td>7.1</td>\n",
       "      <td>e</td>\n",
       "      <td>1540.909213</td>\n",
       "      <td>20.0</td>\n",
       "      <td>12.0</td>\n",
       "      <td>20.0</td>\n",
       "      <td>2.399488</td>\n",
       "      <td>0.58</td>\n",
       "    </tr>\n",
       "    <tr>\n",
       "      <th>387527</th>\n",
       "      <td>10.0</td>\n",
       "      <td>d</td>\n",
       "      <td>1055.578361</td>\n",
       "      <td>9.8</td>\n",
       "      <td>3.5</td>\n",
       "      <td>5.5</td>\n",
       "      <td>1.906709</td>\n",
       "      <td>1.23</td>\n",
       "    </tr>\n",
       "    <tr>\n",
       "      <th>387528</th>\n",
       "      <td>2.9</td>\n",
       "      <td>c</td>\n",
       "      <td>542.262831</td>\n",
       "      <td>6.1</td>\n",
       "      <td>4.3</td>\n",
       "      <td>14.0</td>\n",
       "      <td>0.626513</td>\n",
       "      <td>0.08</td>\n",
       "    </tr>\n",
       "    <tr>\n",
       "      <th>387529</th>\n",
       "      <td>7.0</td>\n",
       "      <td>b</td>\n",
       "      <td>1425.870333</td>\n",
       "      <td>0.5</td>\n",
       "      <td>0.0</td>\n",
       "      <td>0.0</td>\n",
       "      <td>4.951478</td>\n",
       "      <td>0.00</td>\n",
       "    </tr>\n",
       "    <tr>\n",
       "      <th>387530</th>\n",
       "      <td>2.6</td>\n",
       "      <td>d</td>\n",
       "      <td>925.000000</td>\n",
       "      <td>7.6</td>\n",
       "      <td>4.8</td>\n",
       "      <td>24.0</td>\n",
       "      <td>3.100315</td>\n",
       "      <td>0.28</td>\n",
       "    </tr>\n",
       "  </tbody>\n",
       "</table>\n",
       "<p>387531 rows × 8 columns</p>\n",
       "</div>"
      ],
      "text/plain": [
       "        proteins_100g nutriscore_grade  energy-kj_100g  fat_100g  \\\n",
       "0                10.0                a      542.262831       0.2   \n",
       "1                 0.2                d      193.400710       0.0   \n",
       "2                 0.9                b      683.809497       0.3   \n",
       "3                 4.6                d     1055.578361      22.0   \n",
       "4                 0.6                a      401.112130       0.0   \n",
       "...               ...              ...             ...       ...   \n",
       "387526            7.1                e     1540.909213      20.0   \n",
       "387527           10.0                d     1055.578361       9.8   \n",
       "387528            2.9                c      542.262831       6.1   \n",
       "387529            7.0                b     1425.870333       0.5   \n",
       "387530            2.6                d      925.000000       7.6   \n",
       "\n",
       "        saturated-fat_100g  sugars_100g  fiber_100g  salt_100g  \n",
       "0                      0.1          3.9    0.626513       0.09  \n",
       "1                      0.0         15.5    0.426750       0.00  \n",
       "2                      0.1          3.9    2.098569       0.42  \n",
       "3                     15.5         21.9    4.400000       0.10  \n",
       "4                      0.0         27.0    3.600000       0.00  \n",
       "...                    ...          ...         ...        ...  \n",
       "387526                12.0         20.0    2.399488       0.58  \n",
       "387527                 3.5          5.5    1.906709       1.23  \n",
       "387528                 4.3         14.0    0.626513       0.08  \n",
       "387529                 0.0          0.0    4.951478       0.00  \n",
       "387530                 4.8         24.0    3.100315       0.28  \n",
       "\n",
       "[387531 rows x 8 columns]"
      ]
     },
     "execution_count": 5,
     "metadata": {},
     "output_type": "execute_result"
    }
   ],
   "source": [
    "nutrition_data_no_outliers = nutrition_data_no_outliers.reset_index().drop(columns = 'index')\n",
    "nutrition_data_no_outliers"
   ]
  },
  {
   "cell_type": "markdown",
   "id": "a27e7b67-f6d1-46f6-9c78-aca21c726611",
   "metadata": {
    "jp-MarkdownHeadingCollapsed": true
   },
   "source": [
    "# Scaling"
   ]
  },
  {
   "cell_type": "code",
   "execution_count": 28,
   "id": "c6b69b36-8a08-4247-b060-1ada6be16a48",
   "metadata": {},
   "outputs": [],
   "source": [
    "scaler = MinMaxScaler()\n",
    "\n",
    "# Fit and transform the DataFrame\n",
    "df = nutrition_data_no_outliers\n",
    "nutrition_normalized = pd.DataFrame(scaler.fit_transform(df.select_dtypes(include='float')),columns = df.select_dtypes(include='float').columns)\n",
    "nutrition_normalized = pd.concat([nutrition_normalized, df.drop(columns=df.select_dtypes(include='float').columns)], axis=1)"
   ]
  },
  {
   "cell_type": "code",
   "execution_count": 29,
   "id": "29a38ae7-0870-4864-8c54-a0c155f7fd15",
   "metadata": {},
   "outputs": [
    {
     "data": {
      "text/html": [
       "<div>\n",
       "<style scoped>\n",
       "    .dataframe tbody tr th:only-of-type {\n",
       "        vertical-align: middle;\n",
       "    }\n",
       "\n",
       "    .dataframe tbody tr th {\n",
       "        vertical-align: top;\n",
       "    }\n",
       "\n",
       "    .dataframe thead th {\n",
       "        text-align: right;\n",
       "    }\n",
       "</style>\n",
       "<table border=\"1\" class=\"dataframe\">\n",
       "  <thead>\n",
       "    <tr style=\"text-align: right;\">\n",
       "      <th></th>\n",
       "      <th>proteins_100g</th>\n",
       "      <th>energy-kj_100g</th>\n",
       "      <th>fat_100g</th>\n",
       "      <th>saturated-fat_100g</th>\n",
       "      <th>sugars_100g</th>\n",
       "      <th>fiber_100g</th>\n",
       "      <th>salt_100g</th>\n",
       "      <th>nutriscore_grade</th>\n",
       "    </tr>\n",
       "  </thead>\n",
       "  <tbody>\n",
       "    <tr>\n",
       "      <th>0</th>\n",
       "      <td>0.414313</td>\n",
       "      <td>0.197186</td>\n",
       "      <td>0.004016</td>\n",
       "      <td>0.006270</td>\n",
       "      <td>0.117085</td>\n",
       "      <td>0.186313</td>\n",
       "      <td>0.027458</td>\n",
       "      <td>a</td>\n",
       "    </tr>\n",
       "    <tr>\n",
       "      <th>1</th>\n",
       "      <td>0.045198</td>\n",
       "      <td>0.070328</td>\n",
       "      <td>0.000000</td>\n",
       "      <td>0.000000</td>\n",
       "      <td>0.394265</td>\n",
       "      <td>0.163431</td>\n",
       "      <td>0.000000</td>\n",
       "      <td>d</td>\n",
       "    </tr>\n",
       "    <tr>\n",
       "      <th>2</th>\n",
       "      <td>0.071563</td>\n",
       "      <td>0.248658</td>\n",
       "      <td>0.006024</td>\n",
       "      <td>0.006270</td>\n",
       "      <td>0.117085</td>\n",
       "      <td>0.354933</td>\n",
       "      <td>0.128136</td>\n",
       "      <td>b</td>\n",
       "    </tr>\n",
       "    <tr>\n",
       "      <th>3</th>\n",
       "      <td>0.210923</td>\n",
       "      <td>0.383847</td>\n",
       "      <td>0.441767</td>\n",
       "      <td>0.971787</td>\n",
       "      <td>0.547192</td>\n",
       "      <td>0.618557</td>\n",
       "      <td>0.030508</td>\n",
       "      <td>d</td>\n",
       "    </tr>\n",
       "    <tr>\n",
       "      <th>4</th>\n",
       "      <td>0.060264</td>\n",
       "      <td>0.145859</td>\n",
       "      <td>0.000000</td>\n",
       "      <td>0.000000</td>\n",
       "      <td>0.669056</td>\n",
       "      <td>0.526919</td>\n",
       "      <td>0.000000</td>\n",
       "      <td>a</td>\n",
       "    </tr>\n",
       "  </tbody>\n",
       "</table>\n",
       "</div>"
      ],
      "text/plain": [
       "   proteins_100g  energy-kj_100g  fat_100g  saturated-fat_100g  sugars_100g  \\\n",
       "0       0.414313        0.197186  0.004016            0.006270     0.117085   \n",
       "1       0.045198        0.070328  0.000000            0.000000     0.394265   \n",
       "2       0.071563        0.248658  0.006024            0.006270     0.117085   \n",
       "3       0.210923        0.383847  0.441767            0.971787     0.547192   \n",
       "4       0.060264        0.145859  0.000000            0.000000     0.669056   \n",
       "\n",
       "   fiber_100g  salt_100g nutriscore_grade  \n",
       "0    0.186313   0.027458                a  \n",
       "1    0.163431   0.000000                d  \n",
       "2    0.354933   0.128136                b  \n",
       "3    0.618557   0.030508                d  \n",
       "4    0.526919   0.000000                a  "
      ]
     },
     "execution_count": 29,
     "metadata": {},
     "output_type": "execute_result"
    }
   ],
   "source": [
    "nutrition_normalized.head()"
   ]
  },
  {
   "cell_type": "code",
   "execution_count": null,
   "id": "1f405716-b4de-4ebb-8f5a-a7bc4efe2406",
   "metadata": {},
   "outputs": [],
   "source": [
    "nutrition_data.columns"
   ]
  },
  {
   "cell_type": "code",
   "execution_count": null,
   "id": "35d5d501-84ac-406b-afdb-5b675fba7f0d",
   "metadata": {},
   "outputs": [],
   "source": [
    "nutrition_data_fe = nutrition_data.copy()"
   ]
  },
  {
   "cell_type": "code",
   "execution_count": null,
   "id": "af72392b-d1a4-45d0-8f25-be85b3b03c4d",
   "metadata": {},
   "outputs": [],
   "source": [
    "nutrition_data_fe['']"
   ]
  },
  {
   "cell_type": "markdown",
   "id": "c8fc66f4-f950-4cba-8c32-0ba2e235ceef",
   "metadata": {
    "jp-MarkdownHeadingCollapsed": true
   },
   "source": [
    "# Encoding"
   ]
  },
  {
   "cell_type": "code",
   "execution_count": 30,
   "id": "cab8c9e2-74c3-43ea-b4f9-71e7f44d2fae",
   "metadata": {},
   "outputs": [],
   "source": [
    "label_encoder = LabelEncoder()"
   ]
  },
  {
   "cell_type": "code",
   "execution_count": 31,
   "id": "6319e464-9b21-4033-915b-c8b1a168a789",
   "metadata": {},
   "outputs": [],
   "source": [
    "# Assume 'nutrition_data' is your DataFrame and 'nutrigrade_score' is the label column\n",
    "X = nutrition_normalized.drop(columns=['nutriscore_grade'])  # Features (exclude label)\n",
    "y = nutrition_normalized['nutriscore_grade']  # Label (target)\n",
    "\n",
    "# If 'nutrigrade_score' is categorical, encode it\n",
    "label_encoder = LabelEncoder()\n",
    "y = label_encoder.fit_transform(y)\n",
    "\n",
    "# a -> 0, b -> 1, c -> 2, d -> 3, e -> 4"
   ]
  },
  {
   "cell_type": "markdown",
   "id": "311a12ad-09d4-4f38-9937-7f43b7396f4d",
   "metadata": {
    "jp-MarkdownHeadingCollapsed": true
   },
   "source": [
    "# Train Test Split"
   ]
  },
  {
   "cell_type": "code",
   "execution_count": 32,
   "id": "bc9a538d-3144-4fe1-8d95-513043abb787",
   "metadata": {},
   "outputs": [],
   "source": [
    "X_train, X_test, y_train, y_test = train_test_split(X, y, test_size=0.1, random_state=42)"
   ]
  },
  {
   "cell_type": "markdown",
   "id": "b9dbbf6b-a0a5-46dc-92b9-26206fc52f88",
   "metadata": {},
   "source": [
    "# Models"
   ]
  },
  {
   "cell_type": "markdown",
   "id": "e5e182fe-ecf6-419f-bf7c-825bbdb1114e",
   "metadata": {
    "jp-MarkdownHeadingCollapsed": true
   },
   "source": [
    "## Tensorflow NN"
   ]
  },
  {
   "cell_type": "code",
   "execution_count": 38,
   "id": "d0a334c1-8067-44d7-bf90-92ab73335dc0",
   "metadata": {},
   "outputs": [],
   "source": [
    "model = Sequential()\n",
    "model.add(Input(shape=(X_train.shape[1],)))\n",
    "model.add(Dense(64, activation='relu'))\n",
    "model.add(Dense(128, activation='relu'))\n",
    "model.add(Dense(256, activation='relu'))\n",
    "# Output layer (5 classes)\n",
    "model.add(Dense(5, activation='softmax'))\n",
    "# Compile the model\n",
    "model.compile(optimizer='adam', loss='sparse_categorical_crossentropy', metrics=['accuracy'])"
   ]
  },
  {
   "cell_type": "code",
   "execution_count": 39,
   "id": "d71b7d46-daa6-49ea-8f7f-36ee3e773d94",
   "metadata": {},
   "outputs": [
    {
     "data": {
      "text/html": [
       "<pre style=\"white-space:pre;overflow-x:auto;line-height:normal;font-family:Menlo,'DejaVu Sans Mono',consolas,'Courier New',monospace\"><span style=\"font-weight: bold\">Model: \"sequential_1\"</span>\n",
       "</pre>\n"
      ],
      "text/plain": [
       "\u001b[1mModel: \"sequential_1\"\u001b[0m\n"
      ]
     },
     "metadata": {},
     "output_type": "display_data"
    },
    {
     "data": {
      "text/html": [
       "<pre style=\"white-space:pre;overflow-x:auto;line-height:normal;font-family:Menlo,'DejaVu Sans Mono',consolas,'Courier New',monospace\">┏━━━━━━━━━━━━━━━━━━━━━━━━━━━━━━━━━┳━━━━━━━━━━━━━━━━━━━━━━━━┳━━━━━━━━━━━━━━━┓\n",
       "┃<span style=\"font-weight: bold\"> Layer (type)                    </span>┃<span style=\"font-weight: bold\"> Output Shape           </span>┃<span style=\"font-weight: bold\">       Param # </span>┃\n",
       "┡━━━━━━━━━━━━━━━━━━━━━━━━━━━━━━━━━╇━━━━━━━━━━━━━━━━━━━━━━━━╇━━━━━━━━━━━━━━━┩\n",
       "│ dense_4 (<span style=\"color: #0087ff; text-decoration-color: #0087ff\">Dense</span>)                 │ (<span style=\"color: #00d7ff; text-decoration-color: #00d7ff\">None</span>, <span style=\"color: #00af00; text-decoration-color: #00af00\">64</span>)             │           <span style=\"color: #00af00; text-decoration-color: #00af00\">512</span> │\n",
       "├─────────────────────────────────┼────────────────────────┼───────────────┤\n",
       "│ dense_5 (<span style=\"color: #0087ff; text-decoration-color: #0087ff\">Dense</span>)                 │ (<span style=\"color: #00d7ff; text-decoration-color: #00d7ff\">None</span>, <span style=\"color: #00af00; text-decoration-color: #00af00\">128</span>)            │         <span style=\"color: #00af00; text-decoration-color: #00af00\">8,320</span> │\n",
       "├─────────────────────────────────┼────────────────────────┼───────────────┤\n",
       "│ dense_6 (<span style=\"color: #0087ff; text-decoration-color: #0087ff\">Dense</span>)                 │ (<span style=\"color: #00d7ff; text-decoration-color: #00d7ff\">None</span>, <span style=\"color: #00af00; text-decoration-color: #00af00\">256</span>)            │        <span style=\"color: #00af00; text-decoration-color: #00af00\">33,024</span> │\n",
       "├─────────────────────────────────┼────────────────────────┼───────────────┤\n",
       "│ dense_7 (<span style=\"color: #0087ff; text-decoration-color: #0087ff\">Dense</span>)                 │ (<span style=\"color: #00d7ff; text-decoration-color: #00d7ff\">None</span>, <span style=\"color: #00af00; text-decoration-color: #00af00\">5</span>)              │         <span style=\"color: #00af00; text-decoration-color: #00af00\">1,285</span> │\n",
       "└─────────────────────────────────┴────────────────────────┴───────────────┘\n",
       "</pre>\n"
      ],
      "text/plain": [
       "┏━━━━━━━━━━━━━━━━━━━━━━━━━━━━━━━━━┳━━━━━━━━━━━━━━━━━━━━━━━━┳━━━━━━━━━━━━━━━┓\n",
       "┃\u001b[1m \u001b[0m\u001b[1mLayer (type)                   \u001b[0m\u001b[1m \u001b[0m┃\u001b[1m \u001b[0m\u001b[1mOutput Shape          \u001b[0m\u001b[1m \u001b[0m┃\u001b[1m \u001b[0m\u001b[1m      Param #\u001b[0m\u001b[1m \u001b[0m┃\n",
       "┡━━━━━━━━━━━━━━━━━━━━━━━━━━━━━━━━━╇━━━━━━━━━━━━━━━━━━━━━━━━╇━━━━━━━━━━━━━━━┩\n",
       "│ dense_4 (\u001b[38;5;33mDense\u001b[0m)                 │ (\u001b[38;5;45mNone\u001b[0m, \u001b[38;5;34m64\u001b[0m)             │           \u001b[38;5;34m512\u001b[0m │\n",
       "├─────────────────────────────────┼────────────────────────┼───────────────┤\n",
       "│ dense_5 (\u001b[38;5;33mDense\u001b[0m)                 │ (\u001b[38;5;45mNone\u001b[0m, \u001b[38;5;34m128\u001b[0m)            │         \u001b[38;5;34m8,320\u001b[0m │\n",
       "├─────────────────────────────────┼────────────────────────┼───────────────┤\n",
       "│ dense_6 (\u001b[38;5;33mDense\u001b[0m)                 │ (\u001b[38;5;45mNone\u001b[0m, \u001b[38;5;34m256\u001b[0m)            │        \u001b[38;5;34m33,024\u001b[0m │\n",
       "├─────────────────────────────────┼────────────────────────┼───────────────┤\n",
       "│ dense_7 (\u001b[38;5;33mDense\u001b[0m)                 │ (\u001b[38;5;45mNone\u001b[0m, \u001b[38;5;34m5\u001b[0m)              │         \u001b[38;5;34m1,285\u001b[0m │\n",
       "└─────────────────────────────────┴────────────────────────┴───────────────┘\n"
      ]
     },
     "metadata": {},
     "output_type": "display_data"
    },
    {
     "data": {
      "text/html": [
       "<pre style=\"white-space:pre;overflow-x:auto;line-height:normal;font-family:Menlo,'DejaVu Sans Mono',consolas,'Courier New',monospace\"><span style=\"font-weight: bold\"> Total params: </span><span style=\"color: #00af00; text-decoration-color: #00af00\">43,141</span> (168.52 KB)\n",
       "</pre>\n"
      ],
      "text/plain": [
       "\u001b[1m Total params: \u001b[0m\u001b[38;5;34m43,141\u001b[0m (168.52 KB)\n"
      ]
     },
     "metadata": {},
     "output_type": "display_data"
    },
    {
     "data": {
      "text/html": [
       "<pre style=\"white-space:pre;overflow-x:auto;line-height:normal;font-family:Menlo,'DejaVu Sans Mono',consolas,'Courier New',monospace\"><span style=\"font-weight: bold\"> Trainable params: </span><span style=\"color: #00af00; text-decoration-color: #00af00\">43,141</span> (168.52 KB)\n",
       "</pre>\n"
      ],
      "text/plain": [
       "\u001b[1m Trainable params: \u001b[0m\u001b[38;5;34m43,141\u001b[0m (168.52 KB)\n"
      ]
     },
     "metadata": {},
     "output_type": "display_data"
    },
    {
     "data": {
      "text/html": [
       "<pre style=\"white-space:pre;overflow-x:auto;line-height:normal;font-family:Menlo,'DejaVu Sans Mono',consolas,'Courier New',monospace\"><span style=\"font-weight: bold\"> Non-trainable params: </span><span style=\"color: #00af00; text-decoration-color: #00af00\">0</span> (0.00 B)\n",
       "</pre>\n"
      ],
      "text/plain": [
       "\u001b[1m Non-trainable params: \u001b[0m\u001b[38;5;34m0\u001b[0m (0.00 B)\n"
      ]
     },
     "metadata": {},
     "output_type": "display_data"
    }
   ],
   "source": [
    "model.summary()"
   ]
  },
  {
   "cell_type": "code",
   "execution_count": 40,
   "id": "1bc42177-289e-49cc-aeaa-fa1c6ae3c1f7",
   "metadata": {
    "scrolled": true
   },
   "outputs": [
    {
     "name": "stdout",
     "output_type": "stream",
     "text": [
      "Epoch 1/100\n",
      "\u001b[1m4360/4360\u001b[0m \u001b[32m━━━━━━━━━━━━━━━━━━━━\u001b[0m\u001b[37m\u001b[0m \u001b[1m3s\u001b[0m 682us/step - accuracy: 0.7002 - loss: 0.7381 - val_accuracy: 0.7695 - val_loss: 0.5736\n",
      "Epoch 2/100\n",
      "\u001b[1m4360/4360\u001b[0m \u001b[32m━━━━━━━━━━━━━━━━━━━━\u001b[0m\u001b[37m\u001b[0m \u001b[1m3s\u001b[0m 674us/step - accuracy: 0.7687 - loss: 0.5719 - val_accuracy: 0.7774 - val_loss: 0.5420\n",
      "Epoch 3/100\n",
      "\u001b[1m4360/4360\u001b[0m \u001b[32m━━━━━━━━━━━━━━━━━━━━\u001b[0m\u001b[37m\u001b[0m \u001b[1m3s\u001b[0m 702us/step - accuracy: 0.7805 - loss: 0.5432 - val_accuracy: 0.7872 - val_loss: 0.5238\n",
      "Epoch 4/100\n",
      "\u001b[1m4360/4360\u001b[0m \u001b[32m━━━━━━━━━━━━━━━━━━━━\u001b[0m\u001b[37m\u001b[0m \u001b[1m3s\u001b[0m 766us/step - accuracy: 0.7886 - loss: 0.5249 - val_accuracy: 0.7995 - val_loss: 0.5022\n",
      "Epoch 5/100\n",
      "\u001b[1m4360/4360\u001b[0m \u001b[32m━━━━━━━━━━━━━━━━━━━━\u001b[0m\u001b[37m\u001b[0m \u001b[1m3s\u001b[0m 704us/step - accuracy: 0.7943 - loss: 0.5127 - val_accuracy: 0.7965 - val_loss: 0.5043\n",
      "Epoch 6/100\n",
      "\u001b[1m4360/4360\u001b[0m \u001b[32m━━━━━━━━━━━━━━━━━━━━\u001b[0m\u001b[37m\u001b[0m \u001b[1m3s\u001b[0m 725us/step - accuracy: 0.7983 - loss: 0.5020 - val_accuracy: 0.8014 - val_loss: 0.4948\n",
      "Epoch 7/100\n",
      "\u001b[1m4360/4360\u001b[0m \u001b[32m━━━━━━━━━━━━━━━━━━━━\u001b[0m\u001b[37m\u001b[0m \u001b[1m3s\u001b[0m 697us/step - accuracy: 0.8017 - loss: 0.4941 - val_accuracy: 0.8036 - val_loss: 0.4895\n",
      "Epoch 8/100\n",
      "\u001b[1m4360/4360\u001b[0m \u001b[32m━━━━━━━━━━━━━━━━━━━━\u001b[0m\u001b[37m\u001b[0m \u001b[1m3s\u001b[0m 724us/step - accuracy: 0.8073 - loss: 0.4833 - val_accuracy: 0.8095 - val_loss: 0.4766\n",
      "Epoch 9/100\n",
      "\u001b[1m4360/4360\u001b[0m \u001b[32m━━━━━━━━━━━━━━━━━━━━\u001b[0m\u001b[37m\u001b[0m \u001b[1m3s\u001b[0m 739us/step - accuracy: 0.8116 - loss: 0.4739 - val_accuracy: 0.8097 - val_loss: 0.4742\n",
      "Epoch 10/100\n",
      "\u001b[1m4360/4360\u001b[0m \u001b[32m━━━━━━━━━━━━━━━━━━━━\u001b[0m\u001b[37m\u001b[0m \u001b[1m3s\u001b[0m 699us/step - accuracy: 0.8126 - loss: 0.4696 - val_accuracy: 0.8114 - val_loss: 0.4704\n",
      "Epoch 11/100\n",
      "\u001b[1m4360/4360\u001b[0m \u001b[32m━━━━━━━━━━━━━━━━━━━━\u001b[0m\u001b[37m\u001b[0m \u001b[1m3s\u001b[0m 687us/step - accuracy: 0.8152 - loss: 0.4636 - val_accuracy: 0.8190 - val_loss: 0.4556\n",
      "Epoch 12/100\n",
      "\u001b[1m4360/4360\u001b[0m \u001b[32m━━━━━━━━━━━━━━━━━━━━\u001b[0m\u001b[37m\u001b[0m \u001b[1m3s\u001b[0m 690us/step - accuracy: 0.8179 - loss: 0.4591 - val_accuracy: 0.8185 - val_loss: 0.4566\n",
      "Epoch 13/100\n",
      "\u001b[1m4360/4360\u001b[0m \u001b[32m━━━━━━━━━━━━━━━━━━━━\u001b[0m\u001b[37m\u001b[0m \u001b[1m3s\u001b[0m 688us/step - accuracy: 0.8189 - loss: 0.4549 - val_accuracy: 0.8185 - val_loss: 0.4522\n",
      "Epoch 14/100\n",
      "\u001b[1m4360/4360\u001b[0m \u001b[32m━━━━━━━━━━━━━━━━━━━━\u001b[0m\u001b[37m\u001b[0m \u001b[1m3s\u001b[0m 696us/step - accuracy: 0.8200 - loss: 0.4513 - val_accuracy: 0.8234 - val_loss: 0.4478\n",
      "Epoch 15/100\n",
      "\u001b[1m4360/4360\u001b[0m \u001b[32m━━━━━━━━━━━━━━━━━━━━\u001b[0m\u001b[37m\u001b[0m \u001b[1m3s\u001b[0m 691us/step - accuracy: 0.8236 - loss: 0.4445 - val_accuracy: 0.8222 - val_loss: 0.4450\n",
      "Epoch 16/100\n",
      "\u001b[1m4360/4360\u001b[0m \u001b[32m━━━━━━━━━━━━━━━━━━━━\u001b[0m\u001b[37m\u001b[0m \u001b[1m3s\u001b[0m 684us/step - accuracy: 0.8240 - loss: 0.4445 - val_accuracy: 0.8265 - val_loss: 0.4385\n",
      "Epoch 17/100\n",
      "\u001b[1m4360/4360\u001b[0m \u001b[32m━━━━━━━━━━━━━━━━━━━━\u001b[0m\u001b[37m\u001b[0m \u001b[1m3s\u001b[0m 705us/step - accuracy: 0.8251 - loss: 0.4404 - val_accuracy: 0.8270 - val_loss: 0.4362\n",
      "Epoch 18/100\n",
      "\u001b[1m4360/4360\u001b[0m \u001b[32m━━━━━━━━━━━━━━━━━━━━\u001b[0m\u001b[37m\u001b[0m \u001b[1m3s\u001b[0m 702us/step - accuracy: 0.8273 - loss: 0.4366 - val_accuracy: 0.8234 - val_loss: 0.4488\n",
      "Epoch 19/100\n",
      "\u001b[1m4360/4360\u001b[0m \u001b[32m━━━━━━━━━━━━━━━━━━━━\u001b[0m\u001b[37m\u001b[0m \u001b[1m3s\u001b[0m 727us/step - accuracy: 0.8284 - loss: 0.4353 - val_accuracy: 0.8231 - val_loss: 0.4447\n",
      "Epoch 20/100\n",
      "\u001b[1m4360/4360\u001b[0m \u001b[32m━━━━━━━━━━━━━━━━━━━━\u001b[0m\u001b[37m\u001b[0m \u001b[1m5s\u001b[0m 715us/step - accuracy: 0.8293 - loss: 0.4324 - val_accuracy: 0.8270 - val_loss: 0.4378\n",
      "Epoch 21/100\n",
      "\u001b[1m4360/4360\u001b[0m \u001b[32m━━━━━━━━━━━━━━━━━━━━\u001b[0m\u001b[37m\u001b[0m \u001b[1m3s\u001b[0m 696us/step - accuracy: 0.8286 - loss: 0.4328 - val_accuracy: 0.8290 - val_loss: 0.4373\n",
      "Epoch 22/100\n",
      "\u001b[1m4360/4360\u001b[0m \u001b[32m━━━━━━━━━━━━━━━━━━━━\u001b[0m\u001b[37m\u001b[0m \u001b[1m3s\u001b[0m 697us/step - accuracy: 0.8285 - loss: 0.4306 - val_accuracy: 0.8286 - val_loss: 0.4343\n",
      "Epoch 23/100\n",
      "\u001b[1m4360/4360\u001b[0m \u001b[32m━━━━━━━━━━━━━━━━━━━━\u001b[0m\u001b[37m\u001b[0m \u001b[1m3s\u001b[0m 699us/step - accuracy: 0.8314 - loss: 0.4262 - val_accuracy: 0.8293 - val_loss: 0.4331\n",
      "Epoch 24/100\n",
      "\u001b[1m4360/4360\u001b[0m \u001b[32m━━━━━━━━━━━━━━━━━━━━\u001b[0m\u001b[37m\u001b[0m \u001b[1m3s\u001b[0m 769us/step - accuracy: 0.8324 - loss: 0.4221 - val_accuracy: 0.8305 - val_loss: 0.4325\n",
      "Epoch 25/100\n",
      "\u001b[1m4360/4360\u001b[0m \u001b[32m━━━━━━━━━━━━━━━━━━━━\u001b[0m\u001b[37m\u001b[0m \u001b[1m3s\u001b[0m 740us/step - accuracy: 0.8341 - loss: 0.4209 - val_accuracy: 0.8279 - val_loss: 0.4367\n",
      "Epoch 26/100\n",
      "\u001b[1m4360/4360\u001b[0m \u001b[32m━━━━━━━━━━━━━━━━━━━━\u001b[0m\u001b[37m\u001b[0m \u001b[1m3s\u001b[0m 760us/step - accuracy: 0.8352 - loss: 0.4168 - val_accuracy: 0.8260 - val_loss: 0.4374\n",
      "Epoch 27/100\n",
      "\u001b[1m4360/4360\u001b[0m \u001b[32m━━━━━━━━━━━━━━━━━━━━\u001b[0m\u001b[37m\u001b[0m \u001b[1m3s\u001b[0m 762us/step - accuracy: 0.8364 - loss: 0.4157 - val_accuracy: 0.8321 - val_loss: 0.4286\n",
      "Epoch 28/100\n",
      "\u001b[1m4360/4360\u001b[0m \u001b[32m━━━━━━━━━━━━━━━━━━━━\u001b[0m\u001b[37m\u001b[0m \u001b[1m3s\u001b[0m 721us/step - accuracy: 0.8353 - loss: 0.4129 - val_accuracy: 0.8333 - val_loss: 0.4274\n",
      "Epoch 29/100\n",
      "\u001b[1m4360/4360\u001b[0m \u001b[32m━━━━━━━━━━━━━━━━━━━━\u001b[0m\u001b[37m\u001b[0m \u001b[1m3s\u001b[0m 719us/step - accuracy: 0.8369 - loss: 0.4127 - val_accuracy: 0.8293 - val_loss: 0.4297\n",
      "Epoch 30/100\n",
      "\u001b[1m4360/4360\u001b[0m \u001b[32m━━━━━━━━━━━━━━━━━━━━\u001b[0m\u001b[37m\u001b[0m \u001b[1m3s\u001b[0m 726us/step - accuracy: 0.8383 - loss: 0.4114 - val_accuracy: 0.8312 - val_loss: 0.4262\n",
      "Epoch 31/100\n",
      "\u001b[1m4360/4360\u001b[0m \u001b[32m━━━━━━━━━━━━━━━━━━━━\u001b[0m\u001b[37m\u001b[0m \u001b[1m3s\u001b[0m 750us/step - accuracy: 0.8364 - loss: 0.4142 - val_accuracy: 0.8329 - val_loss: 0.4263\n",
      "Epoch 32/100\n",
      "\u001b[1m4360/4360\u001b[0m \u001b[32m━━━━━━━━━━━━━━━━━━━━\u001b[0m\u001b[37m\u001b[0m \u001b[1m3s\u001b[0m 696us/step - accuracy: 0.8385 - loss: 0.4098 - val_accuracy: 0.8337 - val_loss: 0.4231\n",
      "Epoch 33/100\n",
      "\u001b[1m4360/4360\u001b[0m \u001b[32m━━━━━━━━━━━━━━━━━━━━\u001b[0m\u001b[37m\u001b[0m \u001b[1m3s\u001b[0m 689us/step - accuracy: 0.8401 - loss: 0.4067 - val_accuracy: 0.8296 - val_loss: 0.4349\n",
      "Epoch 34/100\n",
      "\u001b[1m4360/4360\u001b[0m \u001b[32m━━━━━━━━━━━━━━━━━━━━\u001b[0m\u001b[37m\u001b[0m \u001b[1m3s\u001b[0m 708us/step - accuracy: 0.8400 - loss: 0.4075 - val_accuracy: 0.8343 - val_loss: 0.4246\n",
      "Epoch 35/100\n",
      "\u001b[1m4360/4360\u001b[0m \u001b[32m━━━━━━━━━━━━━━━━━━━━\u001b[0m\u001b[37m\u001b[0m \u001b[1m3s\u001b[0m 711us/step - accuracy: 0.8395 - loss: 0.4079 - val_accuracy: 0.8366 - val_loss: 0.4184\n",
      "Epoch 36/100\n",
      "\u001b[1m4360/4360\u001b[0m \u001b[32m━━━━━━━━━━━━━━━━━━━━\u001b[0m\u001b[37m\u001b[0m \u001b[1m3s\u001b[0m 691us/step - accuracy: 0.8409 - loss: 0.4045 - val_accuracy: 0.8337 - val_loss: 0.4249\n",
      "Epoch 37/100\n",
      "\u001b[1m4360/4360\u001b[0m \u001b[32m━━━━━━━━━━━━━━━━━━━━\u001b[0m\u001b[37m\u001b[0m \u001b[1m3s\u001b[0m 697us/step - accuracy: 0.8413 - loss: 0.4014 - val_accuracy: 0.8329 - val_loss: 0.4260\n",
      "Epoch 38/100\n",
      "\u001b[1m4360/4360\u001b[0m \u001b[32m━━━━━━━━━━━━━━━━━━━━\u001b[0m\u001b[37m\u001b[0m \u001b[1m3s\u001b[0m 697us/step - accuracy: 0.8414 - loss: 0.4020 - val_accuracy: 0.8348 - val_loss: 0.4279\n",
      "Epoch 39/100\n",
      "\u001b[1m4360/4360\u001b[0m \u001b[32m━━━━━━━━━━━━━━━━━━━━\u001b[0m\u001b[37m\u001b[0m \u001b[1m3s\u001b[0m 696us/step - accuracy: 0.8413 - loss: 0.4027 - val_accuracy: 0.8334 - val_loss: 0.4263\n",
      "Epoch 40/100\n",
      "\u001b[1m4360/4360\u001b[0m \u001b[32m━━━━━━━━━━━━━━━━━━━━\u001b[0m\u001b[37m\u001b[0m \u001b[1m3s\u001b[0m 736us/step - accuracy: 0.8441 - loss: 0.3963 - val_accuracy: 0.8340 - val_loss: 0.4252\n",
      "Epoch 41/100\n",
      "\u001b[1m4360/4360\u001b[0m \u001b[32m━━━━━━━━━━━━━━━━━━━━\u001b[0m\u001b[37m\u001b[0m \u001b[1m3s\u001b[0m 735us/step - accuracy: 0.8434 - loss: 0.3986 - val_accuracy: 0.8336 - val_loss: 0.4242\n",
      "Epoch 42/100\n",
      "\u001b[1m4360/4360\u001b[0m \u001b[32m━━━━━━━━━━━━━━━━━━━━\u001b[0m\u001b[37m\u001b[0m \u001b[1m3s\u001b[0m 781us/step - accuracy: 0.8448 - loss: 0.3969 - val_accuracy: 0.8309 - val_loss: 0.4299\n",
      "Epoch 43/100\n",
      "\u001b[1m4360/4360\u001b[0m \u001b[32m━━━━━━━━━━━━━━━━━━━━\u001b[0m\u001b[37m\u001b[0m \u001b[1m3s\u001b[0m 773us/step - accuracy: 0.8433 - loss: 0.3962 - val_accuracy: 0.8370 - val_loss: 0.4181\n",
      "Epoch 44/100\n",
      "\u001b[1m4360/4360\u001b[0m \u001b[32m━━━━━━━━━━━━━━━━━━━━\u001b[0m\u001b[37m\u001b[0m \u001b[1m3s\u001b[0m 760us/step - accuracy: 0.8435 - loss: 0.3967 - val_accuracy: 0.8368 - val_loss: 0.4188\n",
      "Epoch 45/100\n",
      "\u001b[1m4360/4360\u001b[0m \u001b[32m━━━━━━━━━━━━━━━━━━━━\u001b[0m\u001b[37m\u001b[0m \u001b[1m3s\u001b[0m 743us/step - accuracy: 0.8468 - loss: 0.3907 - val_accuracy: 0.8379 - val_loss: 0.4185\n",
      "Epoch 46/100\n",
      "\u001b[1m4360/4360\u001b[0m \u001b[32m━━━━━━━━━━━━━━━━━━━━\u001b[0m\u001b[37m\u001b[0m \u001b[1m3s\u001b[0m 728us/step - accuracy: 0.8454 - loss: 0.3924 - val_accuracy: 0.8371 - val_loss: 0.4188\n",
      "Epoch 47/100\n",
      "\u001b[1m4360/4360\u001b[0m \u001b[32m━━━━━━━━━━━━━━━━━━━━\u001b[0m\u001b[37m\u001b[0m \u001b[1m3s\u001b[0m 730us/step - accuracy: 0.8462 - loss: 0.3925 - val_accuracy: 0.8321 - val_loss: 0.4299\n",
      "Epoch 48/100\n",
      "\u001b[1m4360/4360\u001b[0m \u001b[32m━━━━━━━━━━━━━━━━━━━━\u001b[0m\u001b[37m\u001b[0m \u001b[1m3s\u001b[0m 737us/step - accuracy: 0.8465 - loss: 0.3903 - val_accuracy: 0.8371 - val_loss: 0.4217\n",
      "Epoch 49/100\n",
      "\u001b[1m4360/4360\u001b[0m \u001b[32m━━━━━━━━━━━━━━━━━━━━\u001b[0m\u001b[37m\u001b[0m \u001b[1m3s\u001b[0m 758us/step - accuracy: 0.8470 - loss: 0.3897 - val_accuracy: 0.8374 - val_loss: 0.4198\n",
      "Epoch 50/100\n",
      "\u001b[1m4360/4360\u001b[0m \u001b[32m━━━━━━━━━━━━━━━━━━━━\u001b[0m\u001b[37m\u001b[0m \u001b[1m3s\u001b[0m 704us/step - accuracy: 0.8485 - loss: 0.3857 - val_accuracy: 0.8383 - val_loss: 0.4181\n",
      "Epoch 51/100\n",
      "\u001b[1m4360/4360\u001b[0m \u001b[32m━━━━━━━━━━━━━━━━━━━━\u001b[0m\u001b[37m\u001b[0m \u001b[1m3s\u001b[0m 685us/step - accuracy: 0.8469 - loss: 0.3894 - val_accuracy: 0.8353 - val_loss: 0.4293\n",
      "Epoch 52/100\n",
      "\u001b[1m4360/4360\u001b[0m \u001b[32m━━━━━━━━━━━━━━━━━━━━\u001b[0m\u001b[37m\u001b[0m \u001b[1m3s\u001b[0m 782us/step - accuracy: 0.8472 - loss: 0.3880 - val_accuracy: 0.8385 - val_loss: 0.4204\n",
      "Epoch 53/100\n",
      "\u001b[1m4360/4360\u001b[0m \u001b[32m━━━━━━━━━━━━━━━━━━━━\u001b[0m\u001b[37m\u001b[0m \u001b[1m3s\u001b[0m 757us/step - accuracy: 0.8475 - loss: 0.3882 - val_accuracy: 0.8351 - val_loss: 0.4240\n",
      "Epoch 54/100\n",
      "\u001b[1m4360/4360\u001b[0m \u001b[32m━━━━━━━━━━━━━━━━━━━━\u001b[0m\u001b[37m\u001b[0m \u001b[1m3s\u001b[0m 748us/step - accuracy: 0.8476 - loss: 0.3862 - val_accuracy: 0.8378 - val_loss: 0.4183\n",
      "Epoch 55/100\n",
      "\u001b[1m4360/4360\u001b[0m \u001b[32m━━━━━━━━━━━━━━━━━━━━\u001b[0m\u001b[37m\u001b[0m \u001b[1m3s\u001b[0m 755us/step - accuracy: 0.8485 - loss: 0.3846 - val_accuracy: 0.8391 - val_loss: 0.4189\n",
      "Epoch 56/100\n",
      "\u001b[1m4360/4360\u001b[0m \u001b[32m━━━━━━━━━━━━━━━━━━━━\u001b[0m\u001b[37m\u001b[0m \u001b[1m3s\u001b[0m 738us/step - accuracy: 0.8501 - loss: 0.3811 - val_accuracy: 0.8381 - val_loss: 0.4174\n",
      "Epoch 57/100\n",
      "\u001b[1m4360/4360\u001b[0m \u001b[32m━━━━━━━━━━━━━━━━━━━━\u001b[0m\u001b[37m\u001b[0m \u001b[1m3s\u001b[0m 741us/step - accuracy: 0.8489 - loss: 0.3848 - val_accuracy: 0.8386 - val_loss: 0.4211\n",
      "Epoch 58/100\n",
      "\u001b[1m4360/4360\u001b[0m \u001b[32m━━━━━━━━━━━━━━━━━━━━\u001b[0m\u001b[37m\u001b[0m \u001b[1m3s\u001b[0m 744us/step - accuracy: 0.8490 - loss: 0.3843 - val_accuracy: 0.8397 - val_loss: 0.4199\n",
      "Epoch 59/100\n",
      "\u001b[1m4360/4360\u001b[0m \u001b[32m━━━━━━━━━━━━━━━━━━━━\u001b[0m\u001b[37m\u001b[0m \u001b[1m3s\u001b[0m 750us/step - accuracy: 0.8502 - loss: 0.3817 - val_accuracy: 0.8387 - val_loss: 0.4176\n",
      "Epoch 60/100\n",
      "\u001b[1m4360/4360\u001b[0m \u001b[32m━━━━━━━━━━━━━━━━━━━━\u001b[0m\u001b[37m\u001b[0m \u001b[1m3s\u001b[0m 755us/step - accuracy: 0.8507 - loss: 0.3817 - val_accuracy: 0.8360 - val_loss: 0.4244\n",
      "Epoch 61/100\n",
      "\u001b[1m4360/4360\u001b[0m \u001b[32m━━━━━━━━━━━━━━━━━━━━\u001b[0m\u001b[37m\u001b[0m \u001b[1m3s\u001b[0m 735us/step - accuracy: 0.8501 - loss: 0.3812 - val_accuracy: 0.8382 - val_loss: 0.4197\n",
      "Epoch 62/100\n",
      "\u001b[1m4360/4360\u001b[0m \u001b[32m━━━━━━━━━━━━━━━━━━━━\u001b[0m\u001b[37m\u001b[0m \u001b[1m3s\u001b[0m 715us/step - accuracy: 0.8514 - loss: 0.3803 - val_accuracy: 0.8409 - val_loss: 0.4134\n",
      "Epoch 63/100\n",
      "\u001b[1m4360/4360\u001b[0m \u001b[32m━━━━━━━━━━━━━━━━━━━━\u001b[0m\u001b[37m\u001b[0m \u001b[1m3s\u001b[0m 788us/step - accuracy: 0.8515 - loss: 0.3783 - val_accuracy: 0.8373 - val_loss: 0.4250\n",
      "Epoch 64/100\n",
      "\u001b[1m4360/4360\u001b[0m \u001b[32m━━━━━━━━━━━━━━━━━━━━\u001b[0m\u001b[37m\u001b[0m \u001b[1m4s\u001b[0m 798us/step - accuracy: 0.8521 - loss: 0.3769 - val_accuracy: 0.8381 - val_loss: 0.4238\n",
      "Epoch 65/100\n",
      "\u001b[1m4360/4360\u001b[0m \u001b[32m━━━━━━━━━━━━━━━━━━━━\u001b[0m\u001b[37m\u001b[0m \u001b[1m3s\u001b[0m 737us/step - accuracy: 0.8501 - loss: 0.3792 - val_accuracy: 0.8372 - val_loss: 0.4209\n",
      "Epoch 66/100\n",
      "\u001b[1m4360/4360\u001b[0m \u001b[32m━━━━━━━━━━━━━━━━━━━━\u001b[0m\u001b[37m\u001b[0m \u001b[1m3s\u001b[0m 703us/step - accuracy: 0.8515 - loss: 0.3788 - val_accuracy: 0.8376 - val_loss: 0.4215\n",
      "Epoch 67/100\n",
      "\u001b[1m4360/4360\u001b[0m \u001b[32m━━━━━━━━━━━━━━━━━━━━\u001b[0m\u001b[37m\u001b[0m \u001b[1m3s\u001b[0m 701us/step - accuracy: 0.8534 - loss: 0.3752 - val_accuracy: 0.8398 - val_loss: 0.4184\n",
      "Epoch 68/100\n",
      "\u001b[1m4360/4360\u001b[0m \u001b[32m━━━━━━━━━━━━━━━━━━━━\u001b[0m\u001b[37m\u001b[0m \u001b[1m3s\u001b[0m 706us/step - accuracy: 0.8522 - loss: 0.3762 - val_accuracy: 0.8386 - val_loss: 0.4204\n",
      "Epoch 69/100\n",
      "\u001b[1m4360/4360\u001b[0m \u001b[32m━━━━━━━━━━━━━━━━━━━━\u001b[0m\u001b[37m\u001b[0m \u001b[1m3s\u001b[0m 724us/step - accuracy: 0.8539 - loss: 0.3746 - val_accuracy: 0.8352 - val_loss: 0.4288\n",
      "Epoch 70/100\n",
      "\u001b[1m4360/4360\u001b[0m \u001b[32m━━━━━━━━━━━━━━━━━━━━\u001b[0m\u001b[37m\u001b[0m \u001b[1m3s\u001b[0m 706us/step - accuracy: 0.8538 - loss: 0.3740 - val_accuracy: 0.8410 - val_loss: 0.4166\n",
      "Epoch 71/100\n",
      "\u001b[1m4360/4360\u001b[0m \u001b[32m━━━━━━━━━━━━━━━━━━━━\u001b[0m\u001b[37m\u001b[0m \u001b[1m3s\u001b[0m 702us/step - accuracy: 0.8532 - loss: 0.3732 - val_accuracy: 0.8379 - val_loss: 0.4217\n",
      "Epoch 72/100\n",
      "\u001b[1m4360/4360\u001b[0m \u001b[32m━━━━━━━━━━━━━━━━━━━━\u001b[0m\u001b[37m\u001b[0m \u001b[1m3s\u001b[0m 721us/step - accuracy: 0.8545 - loss: 0.3725 - val_accuracy: 0.8390 - val_loss: 0.4243\n",
      "Epoch 73/100\n",
      "\u001b[1m4360/4360\u001b[0m \u001b[32m━━━━━━━━━━━━━━━━━━━━\u001b[0m\u001b[37m\u001b[0m \u001b[1m3s\u001b[0m 723us/step - accuracy: 0.8542 - loss: 0.3721 - val_accuracy: 0.8408 - val_loss: 0.4143\n",
      "Epoch 74/100\n",
      "\u001b[1m4360/4360\u001b[0m \u001b[32m━━━━━━━━━━━━━━━━━━━━\u001b[0m\u001b[37m\u001b[0m \u001b[1m3s\u001b[0m 706us/step - accuracy: 0.8516 - loss: 0.3761 - val_accuracy: 0.8376 - val_loss: 0.4237\n",
      "Epoch 75/100\n",
      "\u001b[1m4360/4360\u001b[0m \u001b[32m━━━━━━━━━━━━━━━━━━━━\u001b[0m\u001b[37m\u001b[0m \u001b[1m3s\u001b[0m 711us/step - accuracy: 0.8549 - loss: 0.3718 - val_accuracy: 0.8405 - val_loss: 0.4177\n",
      "Epoch 76/100\n",
      "\u001b[1m4360/4360\u001b[0m \u001b[32m━━━━━━━━━━━━━━━━━━━━\u001b[0m\u001b[37m\u001b[0m \u001b[1m3s\u001b[0m 703us/step - accuracy: 0.8527 - loss: 0.3726 - val_accuracy: 0.8375 - val_loss: 0.4241\n",
      "Epoch 77/100\n",
      "\u001b[1m4360/4360\u001b[0m \u001b[32m━━━━━━━━━━━━━━━━━━━━\u001b[0m\u001b[37m\u001b[0m \u001b[1m3s\u001b[0m 706us/step - accuracy: 0.8543 - loss: 0.3700 - val_accuracy: 0.8414 - val_loss: 0.4157\n",
      "Epoch 78/100\n",
      "\u001b[1m4360/4360\u001b[0m \u001b[32m━━━━━━━━━━━━━━━━━━━━\u001b[0m\u001b[37m\u001b[0m \u001b[1m3s\u001b[0m 777us/step - accuracy: 0.8548 - loss: 0.3687 - val_accuracy: 0.8402 - val_loss: 0.4205\n",
      "Epoch 79/100\n",
      "\u001b[1m4360/4360\u001b[0m \u001b[32m━━━━━━━━━━━━━━━━━━━━\u001b[0m\u001b[37m\u001b[0m \u001b[1m4s\u001b[0m 806us/step - accuracy: 0.8545 - loss: 0.3710 - val_accuracy: 0.8411 - val_loss: 0.4205\n",
      "Epoch 80/100\n",
      "\u001b[1m4360/4360\u001b[0m \u001b[32m━━━━━━━━━━━━━━━━━━━━\u001b[0m\u001b[37m\u001b[0m \u001b[1m3s\u001b[0m 687us/step - accuracy: 0.8544 - loss: 0.3714 - val_accuracy: 0.8399 - val_loss: 0.4197\n",
      "Epoch 81/100\n",
      "\u001b[1m4360/4360\u001b[0m \u001b[32m━━━━━━━━━━━━━━━━━━━━\u001b[0m\u001b[37m\u001b[0m \u001b[1m3s\u001b[0m 690us/step - accuracy: 0.8557 - loss: 0.3682 - val_accuracy: 0.8406 - val_loss: 0.4176\n",
      "Epoch 82/100\n",
      "\u001b[1m4360/4360\u001b[0m \u001b[32m━━━━━━━━━━━━━━━━━━━━\u001b[0m\u001b[37m\u001b[0m \u001b[1m3s\u001b[0m 729us/step - accuracy: 0.8564 - loss: 0.3673 - val_accuracy: 0.8368 - val_loss: 0.4267\n",
      "Epoch 83/100\n",
      "\u001b[1m4360/4360\u001b[0m \u001b[32m━━━━━━━━━━━━━━━━━━━━\u001b[0m\u001b[37m\u001b[0m \u001b[1m3s\u001b[0m 724us/step - accuracy: 0.8560 - loss: 0.3684 - val_accuracy: 0.8424 - val_loss: 0.4178\n",
      "Epoch 84/100\n",
      "\u001b[1m4360/4360\u001b[0m \u001b[32m━━━━━━━━━━━━━━━━━━━━\u001b[0m\u001b[37m\u001b[0m \u001b[1m3s\u001b[0m 713us/step - accuracy: 0.8567 - loss: 0.3674 - val_accuracy: 0.8421 - val_loss: 0.4182\n",
      "Epoch 85/100\n",
      "\u001b[1m4360/4360\u001b[0m \u001b[32m━━━━━━━━━━━━━━━━━━━━\u001b[0m\u001b[37m\u001b[0m \u001b[1m3s\u001b[0m 714us/step - accuracy: 0.8566 - loss: 0.3662 - val_accuracy: 0.8412 - val_loss: 0.4181\n",
      "Epoch 86/100\n",
      "\u001b[1m4360/4360\u001b[0m \u001b[32m━━━━━━━━━━━━━━━━━━━━\u001b[0m\u001b[37m\u001b[0m \u001b[1m3s\u001b[0m 714us/step - accuracy: 0.8572 - loss: 0.3667 - val_accuracy: 0.8429 - val_loss: 0.4158\n",
      "Epoch 87/100\n",
      "\u001b[1m4360/4360\u001b[0m \u001b[32m━━━━━━━━━━━━━━━━━━━━\u001b[0m\u001b[37m\u001b[0m \u001b[1m3s\u001b[0m 709us/step - accuracy: 0.8564 - loss: 0.3661 - val_accuracy: 0.8416 - val_loss: 0.4213\n",
      "Epoch 88/100\n",
      "\u001b[1m4360/4360\u001b[0m \u001b[32m━━━━━━━━━━━━━━━━━━━━\u001b[0m\u001b[37m\u001b[0m \u001b[1m3s\u001b[0m 713us/step - accuracy: 0.8571 - loss: 0.3645 - val_accuracy: 0.8428 - val_loss: 0.4171\n",
      "Epoch 89/100\n",
      "\u001b[1m4360/4360\u001b[0m \u001b[32m━━━━━━━━━━━━━━━━━━━━\u001b[0m\u001b[37m\u001b[0m \u001b[1m3s\u001b[0m 710us/step - accuracy: 0.8589 - loss: 0.3615 - val_accuracy: 0.8389 - val_loss: 0.4231\n",
      "Epoch 90/100\n",
      "\u001b[1m4360/4360\u001b[0m \u001b[32m━━━━━━━━━━━━━━━━━━━━\u001b[0m\u001b[37m\u001b[0m \u001b[1m3s\u001b[0m 720us/step - accuracy: 0.8569 - loss: 0.3638 - val_accuracy: 0.8401 - val_loss: 0.4227\n",
      "Epoch 91/100\n",
      "\u001b[1m4360/4360\u001b[0m \u001b[32m━━━━━━━━━━━━━━━━━━━━\u001b[0m\u001b[37m\u001b[0m \u001b[1m3s\u001b[0m 717us/step - accuracy: 0.8576 - loss: 0.3627 - val_accuracy: 0.8410 - val_loss: 0.4189\n",
      "Epoch 92/100\n",
      "\u001b[1m4360/4360\u001b[0m \u001b[32m━━━━━━━━━━━━━━━━━━━━\u001b[0m\u001b[37m\u001b[0m \u001b[1m3s\u001b[0m 710us/step - accuracy: 0.8589 - loss: 0.3601 - val_accuracy: 0.8398 - val_loss: 0.4242\n",
      "Epoch 93/100\n",
      "\u001b[1m4360/4360\u001b[0m \u001b[32m━━━━━━━━━━━━━━━━━━━━\u001b[0m\u001b[37m\u001b[0m \u001b[1m3s\u001b[0m 724us/step - accuracy: 0.8569 - loss: 0.3655 - val_accuracy: 0.8413 - val_loss: 0.4174\n",
      "Epoch 94/100\n",
      "\u001b[1m4360/4360\u001b[0m \u001b[32m━━━━━━━━━━━━━━━━━━━━\u001b[0m\u001b[37m\u001b[0m \u001b[1m3s\u001b[0m 761us/step - accuracy: 0.8587 - loss: 0.3598 - val_accuracy: 0.8401 - val_loss: 0.4208\n",
      "Epoch 95/100\n",
      "\u001b[1m4360/4360\u001b[0m \u001b[32m━━━━━━━━━━━━━━━━━━━━\u001b[0m\u001b[37m\u001b[0m \u001b[1m3s\u001b[0m 708us/step - accuracy: 0.8581 - loss: 0.3613 - val_accuracy: 0.8426 - val_loss: 0.4186\n",
      "Epoch 96/100\n",
      "\u001b[1m4360/4360\u001b[0m \u001b[32m━━━━━━━━━━━━━━━━━━━━\u001b[0m\u001b[37m\u001b[0m \u001b[1m3s\u001b[0m 718us/step - accuracy: 0.8572 - loss: 0.3613 - val_accuracy: 0.8401 - val_loss: 0.4227\n",
      "Epoch 97/100\n",
      "\u001b[1m4360/4360\u001b[0m \u001b[32m━━━━━━━━━━━━━━━━━━━━\u001b[0m\u001b[37m\u001b[0m \u001b[1m3s\u001b[0m 725us/step - accuracy: 0.8589 - loss: 0.3611 - val_accuracy: 0.8424 - val_loss: 0.4210\n",
      "Epoch 98/100\n",
      "\u001b[1m4360/4360\u001b[0m \u001b[32m━━━━━━━━━━━━━━━━━━━━\u001b[0m\u001b[37m\u001b[0m \u001b[1m3s\u001b[0m 704us/step - accuracy: 0.8579 - loss: 0.3614 - val_accuracy: 0.8420 - val_loss: 0.4226\n",
      "Epoch 99/100\n",
      "\u001b[1m4360/4360\u001b[0m \u001b[32m━━━━━━━━━━━━━━━━━━━━\u001b[0m\u001b[37m\u001b[0m \u001b[1m3s\u001b[0m 745us/step - accuracy: 0.8583 - loss: 0.3603 - val_accuracy: 0.8415 - val_loss: 0.4205\n",
      "Epoch 100/100\n",
      "\u001b[1m4360/4360\u001b[0m \u001b[32m━━━━━━━━━━━━━━━━━━━━\u001b[0m\u001b[37m\u001b[0m \u001b[1m3s\u001b[0m 725us/step - accuracy: 0.8592 - loss: 0.3594 - val_accuracy: 0.8411 - val_loss: 0.4236\n"
     ]
    }
   ],
   "source": [
    "history = model.fit(X_train, y_train, epochs=100 , batch_size=64, validation_split=0.2)"
   ]
  },
  {
   "cell_type": "code",
   "execution_count": 41,
   "id": "5554964c-d4b5-482d-bbae-a07e65030744",
   "metadata": {},
   "outputs": [
    {
     "data": {
      "image/png": "[encoded data removed]",
      "text/plain": [
       "<Figure size 640x480 with 1 Axes>"
      ]
     },
     "metadata": {},
     "output_type": "display_data"
    }
   ],
   "source": [
    "plt.plot(history.history['loss'], label='Training Loss')\n",
    "plt.plot(history.history['val_loss'], label='Validation Loss')\n",
    "plt.xlabel('Epochs')\n",
    "plt.ylabel('Loss')\n",
    "plt.title('Training and Validation Loss Over Epochs')\n",
    "plt.legend()\n",
    "plt.show()"
   ]
  },
  {
   "cell_type": "code",
   "execution_count": 42,
   "id": "b976ad8e-1c6d-4240-ad70-cc559f52e691",
   "metadata": {},
   "outputs": [
    {
     "data": {
      "image/png": "[encoded data removed]",
      "text/plain": [
       "<Figure size 640x480 with 1 Axes>"
      ]
     },
     "metadata": {},
     "output_type": "display_data"
    }
   ],
   "source": [
    "plt.plot(history.history['accuracy'], label='Training Accuracy')\n",
    "plt.plot(history.history['val_accuracy'], label='Validation Accuracy')\n",
    "plt.xlabel('Epochs')\n",
    "plt.ylabel('Accuracy')\n",
    "plt.title('Training and Validation Accuracy Over Epochs')\n",
    "plt.legend()\n",
    "plt.show()"
   ]
  },
  {
   "cell_type": "code",
   "execution_count": 43,
   "id": "4af82d9f-bda2-497b-b763-f3e8c5353c40",
   "metadata": {},
   "outputs": [
    {
     "name": "stdout",
     "output_type": "stream",
     "text": [
      "\u001b[1m1212/1212\u001b[0m \u001b[32m━━━━━━━━━━━━━━━━━━━━\u001b[0m\u001b[37m\u001b[0m \u001b[1m1s\u001b[0m 420us/step - accuracy: 0.8406 - loss: 0.4225\n",
      "Test Loss: 0.426707923412323, Test Accuracy: 0.8403777480125427\n"
     ]
    }
   ],
   "source": [
    "test_loss, test_accuracy = model.evaluate(X_test, y_test)\n",
    "print(f\"Test Loss: {test_loss}, Test Accuracy: {test_accuracy}\")"
   ]
  },
  {
   "cell_type": "markdown",
   "id": "84d868fe-6e43-454d-b10c-3ee551e2adc3",
   "metadata": {
    "jp-MarkdownHeadingCollapsed": true
   },
   "source": [
    "## Random Forest"
   ]
  },
  {
   "cell_type": "code",
   "execution_count": null,
   "id": "e710ec33-3148-49eb-bc91-fff2d2a84e56",
   "metadata": {},
   "outputs": [],
   "source": [
    "# Initialize and train the model\n",
    "rf_model = RandomForestClassifier(n_estimators=50, random_state=42)\n",
    "rf_model.fit(X_train, y_train)\n",
    "\n",
    "# Predict on test data\n",
    "y_pred = rf_model.predict(X_test)\n",
    "\n",
    "# Evaluate performance\n",
    "print(\"Accuracy:\", accuracy_score(y_test, y_pred))\n",
    "print(\"Classification Report:\\n\", classification_report(y_test, y_pred))"
   ]
  },
  {
   "cell_type": "markdown",
   "id": "1925476c-8c69-4f4f-8f86-774974fbe42d",
   "metadata": {
    "jp-MarkdownHeadingCollapsed": true
   },
   "source": [
    "## XGBoost"
   ]
  },
  {
   "cell_type": "code",
   "execution_count": 50,
   "id": "3bcc161c-5572-431b-ab52-e05cf5ee277d",
   "metadata": {},
   "outputs": [
    {
     "name": "stdout",
     "output_type": "stream",
     "text": [
      "Accuracy: 0.8866439593332301\n",
      "Classification Report:\n",
      "               precision    recall  f1-score   support\n",
      "\n",
      "           0       0.90      0.90      0.90      6777\n",
      "           1       0.83      0.84      0.83      7231\n",
      "           2       0.87      0.88      0.88      9711\n",
      "           3       0.92      0.92      0.92      9915\n",
      "           4       0.91      0.89      0.90      5120\n",
      "\n",
      "    accuracy                           0.89     38754\n",
      "   macro avg       0.89      0.89      0.89     38754\n",
      "weighted avg       0.89      0.89      0.89     38754\n",
      "\n"
     ]
    }
   ],
   "source": [
    "from xgboost import XGBClassifier\n",
    "from sklearn.metrics import classification_report, accuracy_score\n",
    "\n",
    "# Initialize and train the model\n",
    "xgb_model = XGBClassifier(n_estimators=500, learning_rate=0.1, random_state=42)\n",
    "xgb_model.fit(X_train, y_train)\n",
    "\n",
    "# Predict on test data\n",
    "y_pred = xgb_model.predict(X_test)\n",
    "\n",
    "# Evaluate performance\n",
    "print(\"Accuracy:\", accuracy_score(y_test, y_pred))\n",
    "print(\"Classification Report:\\n\", classification_report(y_test, y_pred))\n"
   ]
  },
  {
   "cell_type": "markdown",
   "id": "2183634b-28a6-4b32-bcfb-ceacbff7c269",
   "metadata": {
    "jp-MarkdownHeadingCollapsed": true
   },
   "source": [
    "## Ensemble RF XG"
   ]
  },
  {
   "cell_type": "code",
   "execution_count": null,
   "id": "7f901d71-c575-4cf0-a24a-d599630d2546",
   "metadata": {},
   "outputs": [],
   "source": [
    "from sklearn.ensemble import VotingClassifier\n",
    "\n",
    "rf_model = RandomForestClassifier()\n",
    "xgb_model = XGBClassifier()\n",
    "ensemble_model = VotingClassifier(estimators=[('rf', rf_model), ('xgb', xgb_model)], voting='soft')\n",
    "ensemble_model.fit(X_train, y_train)"
   ]
  },
  {
   "cell_type": "code",
   "execution_count": null,
   "id": "872e1fb2-3057-4e42-9c26-38b60be8df28",
   "metadata": {},
   "outputs": [],
   "source": [
    "y_pred = ensemble_model.predict(X_test)\n",
    "from sklearn.metrics import accuracy_score, classification_report\n",
    "\n",
    "# Evaluate accuracy\n",
    "accuracy = accuracy_score(y_test, y_pred)\n",
    "print(\"Accuracy:\", accuracy)\n",
    "\n",
    "# Detailed classification report\n",
    "print(\"Classification Report:\\n\", classification_report(y_test, y_pred))\n"
   ]
  },
  {
   "cell_type": "code",
   "execution_count": null,
   "id": "f5703781-44b8-467e-bef1-6baa04379baa",
   "metadata": {},
   "outputs": [],
   "source": [
    "from sklearn.metrics import roc_auc_score\n",
    "\n",
    "# Predict probabilities\n",
    "y_proba = ensemble_model.predict_proba(X_test)\n",
    "\n",
    "# ROC-AUC (for multiclass)\n",
    "roc_auc = roc_auc_score(y_test, y_proba, multi_class='ovr')\n",
    "print(\"ROC-AUC Score:\", roc_auc)"
   ]
  },
  {
   "cell_type": "code",
   "execution_count": null,
   "id": "8b8e18a4-cb4f-4ee3-a8da-77e715e7aad7",
   "metadata": {},
   "outputs": [],
   "source": [
    "# Binarize the output (one-vs-rest)\n",
    "n_classes = len(set(y_test))  # Number of classes\n",
    "y_test_bin = label_binarize(y_test, classes=range(n_classes))\n",
    "\n",
    "# Predict probabilities for each class\n",
    "y_proba = ensemble_model.predict_proba(X_test)\n",
    "\n",
    "# Plot ROC curve for each class\n",
    "plt.figure(figsize=(10, 8))\n",
    "for i in range(n_classes):\n",
    "    fpr, tpr, _ = roc_curve(y_test_bin[:, i], y_proba[:, i])\n",
    "    roc_auc = auc(fpr, tpr)\n",
    "    plt.plot(fpr, tpr, label=f\"Class {i} (AUC = {roc_auc:.2f})\")\n",
    "\n",
    "# Plot the diagonal\n",
    "plt.plot([0, 1], [0, 1], 'k--', label=\"Random Guess\")\n",
    "\n",
    "# Configure plot\n",
    "plt.xlabel(\"False Positive Rate\")\n",
    "plt.ylabel(\"True Positive Rate\")\n",
    "plt.title(\"Multiclass ROC Curve\")\n",
    "plt.legend(loc=\"lower right\")\n",
    "plt.grid()\n",
    "plt.show()\n"
   ]
  },
  {
   "cell_type": "markdown",
   "id": "1a0383e1-a6dd-45a5-9c02-9f65136f97df",
   "metadata": {},
   "source": [
    "# Export Model"
   ]
  },
  {
   "cell_type": "markdown",
   "id": "de33b9ea-d188-4bba-b7c0-0d85c25e28bf",
   "metadata": {
    "jp-MarkdownHeadingCollapsed": true
   },
   "source": [
    "## Tensorflow"
   ]
  },
  {
   "cell_type": "code",
   "execution_count": 47,
   "id": "bf739db4-a070-4e50-8fb7-20c8c1d1610d",
   "metadata": {},
   "outputs": [
    {
     "name": "stdout",
     "output_type": "stream",
     "text": [
      "INFO:tensorflow:Assets written to: saved_model/capstone_tf_model\\assets\n"
     ]
    },
    {
     "name": "stderr",
     "output_type": "stream",
     "text": [
      "INFO:tensorflow:Assets written to: saved_model/capstone_tf_model\\assets\n"
     ]
    },
    {
     "name": "stdout",
     "output_type": "stream",
     "text": [
      "Saved artifact at 'saved_model/capstone_tf_model'. The following endpoints are available:\n",
      "\n",
      "* Endpoint 'serve'\n",
      "  args_0 (POSITIONAL_ONLY): TensorSpec(shape=(None, 7), dtype=tf.float32, name='keras_tensor_11')\n",
      "Output Type:\n",
      "  TensorSpec(shape=(None, 5), dtype=tf.float32, name=None)\n",
      "Captures:\n",
      "  1453148496592: TensorSpec(shape=(), dtype=tf.resource, name=None)\n",
      "  1453148495440: TensorSpec(shape=(), dtype=tf.resource, name=None)\n",
      "  1453148497552: TensorSpec(shape=(), dtype=tf.resource, name=None)\n",
      "  1453148491600: TensorSpec(shape=(), dtype=tf.resource, name=None)\n",
      "  1453148493712: TensorSpec(shape=(), dtype=tf.resource, name=None)\n",
      "  1453148496208: TensorSpec(shape=(), dtype=tf.resource, name=None)\n",
      "  1453148496016: TensorSpec(shape=(), dtype=tf.resource, name=None)\n",
      "  1453148495056: TensorSpec(shape=(), dtype=tf.resource, name=None)\n"
     ]
    }
   ],
   "source": [
    "model.export('saved_model/capstone_tf_model')"
   ]
  },
  {
   "cell_type": "code",
   "execution_count": 49,
   "id": "98ab3e76-6aa6-473a-8f33-52362f36048d",
   "metadata": {},
   "outputs": [],
   "source": [
    "converter = tf.lite.TFLiteConverter.from_saved_model('saved_model/capstone_tf_model')  # Use your saved model directory\n",
    "# OR, if using a Keras model\n",
    "# converter = tf.lite.TFLiteConverter.from_keras_model(model)\n",
    "\n",
    "# Optimize the model for smaller size (optional)\n",
    "converter.optimizations = [tf.lite.Optimize.DEFAULT]\n",
    "\n",
    "# Convert the model\n",
    "tflite_model = converter.convert()\n",
    "\n",
    "# Save the TFLite model to a file\n",
    "with open('capstone_tf_model.tflite', 'wb') as f:\n",
    "    f.write(tflite_model)"
   ]
  },
  {
   "cell_type": "markdown",
   "id": "3b643b6b-0475-4a60-acc3-b500d0dd7e57",
   "metadata": {
    "jp-MarkdownHeadingCollapsed": true
   },
   "source": [
    "## XGB"
   ]
  },
  {
   "cell_type": "code",
   "execution_count": 54,
   "id": "c3bd65dd-8f0b-474c-a29f-7d4b749a2a9e",
   "metadata": {},
   "outputs": [
    {
     "data": {
      "text/plain": [
       "['xgb_model.pkl']"
      ]
     },
     "execution_count": 54,
     "metadata": {},
     "output_type": "execute_result"
    }
   ],
   "source": [
    "import joblib\n",
    "\n",
    "# Save the trained XGBoost model\n",
    "joblib.dump(xgb_model, 'xgb_model.pkl')"
   ]
  },
  {
   "cell_type": "code",
   "execution_count": 55,
   "id": "2bd043c7-2a08-4e1c-9ade-8cbd967d1826",
   "metadata": {},
   "outputs": [
    {
     "data": {
      "text/plain": [
       "['scaler.pkl']"
      ]
     },
     "execution_count": 55,
     "metadata": {},
     "output_type": "execute_result"
    }
   ],
   "source": [
    "joblib.dump(scaler, 'scaler.pkl')"
   ]
  },
  {
   "cell_type": "code",
   "execution_count": 56,
   "id": "5e71c6ed-ee74-4013-bc51-e054f0dbfaf3",
   "metadata": {},
   "outputs": [],
   "source": [
    "import onnxmltools\n",
    "from onnxmltools.convert import convert_xgboost\n",
    "from onnxmltools.convert.common.data_types import FloatTensorType"
   ]
  },
  {
   "cell_type": "code",
   "execution_count": 57,
   "id": "017e18e7-c91a-4f9d-9bb7-9e4e981155dd",
   "metadata": {},
   "outputs": [],
   "source": [
    "booster = xgb_model.get_booster()\n",
    "original_feature_names = booster.feature_names\n",
    "if original_feature_names is not None:\n",
    "    onnx_converter_conform_feature_names = [f\"f{num}\" for num in range(len(original_feature_names))]\n",
    "    booster.feature_names = onnx_converter_conform_feature_names"
   ]
  },
  {
   "cell_type": "code",
   "execution_count": 58,
   "id": "f58ab39c-e791-4a64-88e3-61dc91f71f2c",
   "metadata": {},
   "outputs": [
    {
     "data": {
      "text/plain": [
       "['proteins_100g',\n",
       " 'energy-kj_100g',\n",
       " 'fat_100g',\n",
       " 'saturated-fat_100g',\n",
       " 'sugars_100g',\n",
       " 'fiber_100g',\n",
       " 'salt_100g']"
      ]
     },
     "execution_count": 58,
     "metadata": {},
     "output_type": "execute_result"
    }
   ],
   "source": [
    "original_feature_names"
   ]
  },
  {
   "cell_type": "code",
   "execution_count": 59,
   "id": "b2fba69c-d524-4ab4-820b-1d717382108e",
   "metadata": {},
   "outputs": [
    {
     "data": {
      "text/plain": [
       "['f0', 'f1', 'f2', 'f3', 'f4', 'f5', 'f6']"
      ]
     },
     "execution_count": 59,
     "metadata": {},
     "output_type": "execute_result"
    }
   ],
   "source": [
    "booster.feature_names"
   ]
  },
  {
   "cell_type": "code",
   "execution_count": 60,
   "id": "9c428f34-f0df-4ce7-af10-325e837ff4c4",
   "metadata": {},
   "outputs": [],
   "source": [
    "# Load the trained XGBoost model\n",
    "xgb_model = joblib.load('xgb_model.pkl')"
   ]
  },
  {
   "cell_type": "code",
   "execution_count": 64,
   "id": "d39c790d-f957-424e-bc48-a28c66224ad4",
   "metadata": {},
   "outputs": [],
   "source": [
    "\n",
    "# Define the input types (adjust 'n_features' to the actual number of features in your dataset)\n",
    "# For example, if you have 5 features, replace `n_features` with 5\n",
    "initial_types = [('input', FloatTensorType([None, 7]))] \n",
    "\n",
    "# Convert the XGBoost model to ONNX\n",
    "onnx_model = convert_xgboost(booster,'xgboost_classifier', initial_types=initial_types)\n",
    "\n",
    "# Save the ONNX model to a file\n",
    "onnxmltools.utils.save_model(onnx_model, 'xgb_model.onnx')"
   ]
  },
  {
   "cell_type": "markdown",
   "id": "d8f0288c-70c9-4c1a-aaa3-8998d634a8a4",
   "metadata": {
    "jp-MarkdownHeadingCollapsed": true
   },
   "source": [
    "# Path"
   ]
  },
  {
   "cell_type": "code",
   "execution_count": 68,
   "id": "42916caf-7186-481a-bf59-b12e0da2f1b0",
   "metadata": {},
   "outputs": [
    {
     "name": "stdout",
     "output_type": "stream",
     "text": [
      "Absolute Path: C:\\Users\\ARGA\\CapstoneProject\\saved-model\n"
     ]
    }
   ],
   "source": [
    "import os\n",
    "\n",
    "# Replace 'folder_or_file_name' with your folder or file name\n",
    "folder_or_file_name = 'saved-model'\n",
    "\n",
    "# Get the absolute path\n",
    "absolute_path = os.path.abspath(folder_or_file_name)\n",
    "print(f\"Absolute Path: {absolute_path}\")\n"
   ]
  }
 ],
 "metadata": {
  "kernelspec": {
   "display_name": "Python 3 (ipykernel)",
   "language": "python",
   "name": "python3"
  },
  "language_info": {
   "codemirror_mode": {
    "name": "ipython",
    "version": 3
   },
   "file_extension": ".py",
   "mimetype": "text/x-python",
   "name": "python",
   "nbconvert_exporter": "python",
   "pygments_lexer": "ipython3",
   "version": "3.12.7"
  }
 },
 "nbformat": 4,
 "nbformat_minor": 5
}
